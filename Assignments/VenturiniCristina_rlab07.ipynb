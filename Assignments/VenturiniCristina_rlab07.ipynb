{
 "cells": [
  {
   "cell_type": "markdown",
   "id": "07b1b757",
   "metadata": {},
   "source": [
    "# Cristina Venturini 2022461\n",
    "\n",
    "## Assignment 7"
   ]
  },
  {
   "cell_type": "code",
   "execution_count": 1,
   "id": "f263bc81",
   "metadata": {},
   "outputs": [
    {
     "name": "stderr",
     "output_type": "stream",
     "text": [
      "Warning message:\n",
      "\"package 'tibble' was built under R version 3.6.3\"Warning message:\n",
      "\"package 'ggplot2' was built under R version 3.6.3\"Warning message:\n",
      "\"package 'latex2exp' was built under R version 3.6.3\""
     ]
    }
   ],
   "source": [
    "library(tibble)\n",
    "library(ggplot2)\n",
    "library(latex2exp)\n",
    "theme_set(theme_bw())"
   ]
  },
  {
   "cell_type": "markdown",
   "id": "dd008862",
   "metadata": {},
   "source": [
    "## Exercise 1"
   ]
  },
  {
   "cell_type": "markdown",
   "id": "44cf3367",
   "metadata": {},
   "source": [
    "A well established and diffused method for detecting a disease in blood fails to detect the presence of disease in $15 \\%$ of the patients that actually have the disease. <br>\n",
    "A young UniPD startUp has developed an innovative method of screening. During the qualification phase, a random sample of $n = 75$ patients known to have the disease is screened using the new method."
   ]
  },
  {
   "cell_type": "markdown",
   "id": "9c2a8e4f",
   "metadata": {},
   "source": [
    "### 1.1\n",
    "\n",
    "What is the probability distribution of $y$, the number of times the new method fails to detect the disease ?"
   ]
  },
  {
   "cell_type": "markdown",
   "id": "b4df200b",
   "metadata": {},
   "source": [
    "A binomial distribution."
   ]
  },
  {
   "cell_type": "markdown",
   "id": "40dd14aa",
   "metadata": {},
   "source": [
    "### 1.2\n",
    "\n",
    "In the $n = 75$ patients sample, the new method fails to detect the disease in $y = 6$ cases. What is the frequentist estimator of the failure probability of the new method?"
   ]
  },
  {
   "cell_type": "code",
   "execution_count": 2,
   "id": "49d8fe02",
   "metadata": {},
   "outputs": [],
   "source": [
    "y = 6\n",
    "n = 75\n",
    "p_freq = y/n"
   ]
  },
  {
   "cell_type": "code",
   "execution_count": 3,
   "id": "f5e44b56",
   "metadata": {},
   "outputs": [
    {
     "name": "stdout",
     "output_type": "stream",
     "text": [
      "Frequentist estimator: 0.08"
     ]
    }
   ],
   "source": [
    "cat('Frequentist estimator:', round(p_freq,3))"
   ]
  },
  {
   "cell_type": "markdown",
   "id": "fca3dd6d",
   "metadata": {},
   "source": [
    "### 1.3\n",
    "\n",
    "Setup a bayesian computation of the posterior probability, assuming a beta distribution with mean value $0.15$ and standard deviation $0.14$. Plot the posterior distribution for $y$, and mark on the plot the mean value and variance."
   ]
  },
  {
   "cell_type": "markdown",
   "id": "20978fa7",
   "metadata": {},
   "source": [
    "Given a Beta distribution with a certain mean $\\mu$ and standard deviation $\\sigma$, the parameter $\\alpha$ and $\\beta$ are found as follows: \n",
    "\n",
    "$$\\alpha = \\left(\\frac{1-\\mu}{\\sigma^2}-\\frac{1}{\\mu}\\right)\\mu^2$$\n",
    "\n",
    "$$\\beta = \\alpha\\left(\\frac{1}{\\mu}-1\\right)$$"
   ]
  },
  {
   "cell_type": "code",
   "execution_count": 4,
   "id": "d83a55e2",
   "metadata": {},
   "outputs": [],
   "source": [
    "n_p = 1001\n",
    "p = seq(0, 1, length.out=n_p)\n",
    "delta.p = p[2] - p[1]"
   ]
  },
  {
   "cell_type": "code",
   "execution_count": 5,
   "id": "a037bf9b",
   "metadata": {},
   "outputs": [],
   "source": [
    "m = 0.15\n",
    "st_dev = 0.14\n",
    "alpha_pr = m^2*((1-m)/(st_dev^2)-1/m)\n",
    "beta_pr = alpha_pr*(-1+1/m)\n",
    "alpha = alpha_pr + 6\n",
    "beta = beta_pr +75 - 6z\n",
    "m_pt = alpha/(alpha+beta)\n",
    "st_dev_pt =sqrt((alpha*beta)/((alpha+beta)^2*(alpha+beta+1)))\n",
    "beta_post = dbeta(p, alpha, beta)/(delta.p*sum(dbeta(p, alpha, beta)))\n",
    "beta_prior = dbeta(p, alpha_pr, beta_pr)#/(delta.p*sum(dbeta(p, alpha_pr, beta_pr)))"
   ]
  },
  {
   "cell_type": "code",
   "execution_count": 6,
   "id": "845b174f",
   "metadata": {},
   "outputs": [
    {
     "data": {
      "image/png": "[encoded data removed]",
      "text/plain": [
       "Plot with title \"paste(\"Posterior PDF for Beta\", \"(\", \"~0\", \". 83\", \", ~4\", \". 68\", \")\", \" Prior\")\""
      ]
     },
     "metadata": {},
     "output_type": "display_data"
    }
   ],
   "source": [
    "options(repr.plot.width=6, repr.plot.height=6)\n",
    "plot(p, beta_post, main = TeX(\"Posterior PDF for Beta(~0.83, ~4.68) Prior\"), xlim = c(0,0.2),\n",
    "     col=\"deepskyblue3\", xlab = TeX('$p$'), ylab = TeX('$P(p|y)$'), cex.lab=0.7, cex.axis=0.6, cex.main=0.8, type='l', lwd=3)\n",
    "abline(v = m_pt, col=\"darkred\", lwd=2, lty=1)\n",
    "abline(v = m_pt + st_dev_pt, col=\"darkred\", lwd=2, lty=2)\n",
    "abline(v = m_pt - st_dev_pt, col=\"darkred\", lwd=2, lty=2)\n",
    "text(m_pt, 14, labels=expression(\"µ\"), pos=3, cex=0.8, col=\"darkred\",  xpd=TRUE)\n",
    "text(m_pt + st_dev_pt, 14, labels=expression(\"+sigma\"), pos=3, cex=0.8, col=\"darkred\",  xpd=TRUE)\n",
    "text(m_pt - st_dev_pt, 14, labels=expression(\"-sigma\"), pos=3, cex=0.8, col=\"darkred\",  xpd=TRUE)"
   ]
  },
  {
   "cell_type": "markdown",
   "id": "37221acc",
   "metadata": {},
   "source": [
    "### 1.4\n",
    "\n",
    "Perform a test of hypothesis assuming that if the probability of failing to detect the disease in ill patients is greater or equal than $15 \\%$, the new test is no better than the traditional method. Test the sample at a $5 \\%$ level of significance in the Bayesian way."
   ]
  },
  {
   "cell_type": "code",
   "execution_count": 7,
   "id": "6d3808fa",
   "metadata": {},
   "outputs": [],
   "source": [
    "est_beta = qbeta(c(0.025,0.975), alpha, beta)0"
   ]
  },
  {
   "cell_type": "code",
   "execution_count": 8,
   "id": "3b8d6866",
   "metadata": {
    "scrolled": true
   },
   "outputs": [
    {
     "name": "stdout",
     "output_type": "stream",
     "text": [
      "\n",
      "95% credibility interval: 0.035 - 0.154"
     ]
    }
   ],
   "source": [
    "cat('\\n95% credibility interval:', round(est_beta[1],3), '-', round(est_beta[2],3))"
   ]
  },
  {
   "cell_type": "code",
   "execution_count": 9,
   "id": "312ca9e7",
   "metadata": {
    "scrolled": false
   },
   "outputs": [
    {
     "data": {
      "image/png": "[encoded data removed]",
      "text/plain": [
       "Plot with title \"paste(\"Bayesian hypothesis testing\")\""
      ]
     },
     "metadata": {},
     "output_type": "display_data"
    }
   ],
   "source": [
    "p.H0 = 0.15\n",
    "options(repr.plot.width=6, repr.plot.height=6)\n",
    "plot(p, beta_post, main = TeX(\"Bayesian hypothesis testing\"),\n",
    "     xlim=c(0,0.2), ylim=c(0,1.1*max(beta_post)),\n",
    "     col=\"darkgreen\", xlab = TeX('$p$'), ylab = TeX('$P(p|y)$'), \n",
    "     cex.lab=0.7, cex.axis=0.6, cex.main=0.8, type='l', lwd=2)\n",
    "abline(v = est_beta[1], col=\"red\", lwd=2, lty=2)\n",
    "abline(v = est_beta[2], col=\"red\", lwd=2, lty=2)\n",
    "abline(v = p.H0, col=\"darkgreen\", lwd=1, lty=1)\n",
    "text(0.9*est_beta[1], 10, labels=expression(\"p = 0.035 (2.5%)\"), srt=90, pos=3, cex=0.8, col=\"red\",  xpd=TRUE)\n",
    "text(1.06*est_beta[2], 10, labels=expression(\"p = 0.154 (97.5%)\"), srt=90, pos=3, cex=0.8, col=\"red\",  xpd=TRUE)\n",
    "text(0.95*p.H0, 10, labels=expression('p0 = 0.15 (H0)'), pos=1, srt=90, cex=0.8, col=\"black\", xpd=TRUE)"
   ]
  },
  {
   "cell_type": "markdown",
   "id": "281350d8",
   "metadata": {},
   "source": [
    "The null hypothesis $H_0$ is accepted at a significance level of $5\\%$ since $p_0$ lies in the acceptance region."
   ]
  },
  {
   "cell_type": "markdown",
   "id": "ab8b07c9",
   "metadata": {},
   "source": [
    "### 1.5 \n",
    "\n",
    "Perform the same hypothesis test in the classical frequentist way."
   ]
  },
  {
   "cell_type": "code",
   "execution_count": 10,
   "id": "a4e161e5",
   "metadata": {},
   "outputs": [],
   "source": [
    "alpha_sig = 0.05\n",
    "\n",
    "x_test = seq.int(0, n, 1)\n",
    "p_test = pbinom(x_test, n, p.H0)\n",
    "x_ac = x_test[p_test>0.025 & p_test<0.975] # accepted values\n",
    "x_rl = x_test[p_test<=0.025] # left rejected values\n",
    "x_rr = x_test[p_test>=0.975] # right rejected values\n",
    "pp_test = dbinom(x_test, n, p.H0)"
   ]
  },
  {
   "cell_type": "code",
   "execution_count": 11,
   "id": "24e4c4f6",
   "metadata": {},
   "outputs": [],
   "source": [
    "colors = c(rep(\"darkred\", length(x_rl)), rep(\"deepskyblue3\",  length(x_ac)), rep(\"darkred\", length(x_rr)))\n",
    "density = c(rep(40, length(x_rl)), rep(100, length(x_ac)), rep(40, length(x_rr)))\n",
    "angle = c(rep(45, length(x_rl)), rep(0, length(x_ac)), rep(135, length(x_rr)))"
   ]
  },
  {
   "cell_type": "code",
   "execution_count": 12,
   "id": "e1a699d0",
   "metadata": {},
   "outputs": [
    {
     "data": {
      "image/png": "[encoded data removed]",
      "text/plain": [
       "Plot with title \"paste(\"Hypothesis testing: frequentist approach\")\""
      ]
     },
     "metadata": {},
     "output_type": "display_data"
    }
   ],
   "source": [
    "options(repr.plot.width=7, repr.plot.height=5)\n",
    "barplot(height=pp_test[1:25],\n",
    "        names.arg=x_test[1:25], \n",
    "        density = density[1:25], angle = angle[1:25], col = colors,\n",
    "        ylim=c(0,1.1*max(pp_test)),\n",
    "        main = TeX(\"Hypothesis testing: frequentist approach\"), xlab = TeX('$y$'), ylab = TeX('$Density$'),\n",
    "        cex.lab=0.7, cex.axis=0.6, cex.main=0.8, cex.names = 0.7)\n",
    "abline(v = 7.9, col=\"darkgreen\", lwd=2, lty=3)\n",
    "text(7.9, par(\"usr\")[4], labels=expression(\"y = 6\"),  pos=3, cex=0.8, col=\"darkgreen\",  xpd=TRUE)\n",
    "legend(x=\"topright\", inset=0.05, legend=c(TeX(\"Accept $H_0$\"),TeX(\"Reject $H_0$\")),\n",
    "       fill=c('deepskyblue3', 'darkred'), density = c(100, 40), angle = c(0, 45))\n",
    "box()"
   ]
  },
  {
   "cell_type": "markdown",
   "id": "20fd0fa5",
   "metadata": {},
   "source": [
    "The null hypothesis $H_0$ is accepted at a significance level of $5\\%$ since $y = 6$ lies in the acceptance region."
   ]
  },
  {
   "cell_type": "markdown",
   "id": "60b47d49",
   "metadata": {},
   "source": [
    "## Exercise 2"
   ]
  },
  {
   "cell_type": "markdown",
   "id": "ae3d04f8",
   "metadata": {},
   "source": [
    "Ladislaus Josephovich Bortkiewicz was a Russian economist and statistician. He noted that the Poisson distribution can be very useful in applied statistics when describing low-frequency events in a large population. In a famous example he showed that the number of deaths by horse kick among the Prussian army follows the Poisson distribution. <br>\n",
    "Considering the following to sets of observations taken over a fixed large time interval in two different corps:\n",
    "\n",
    "| $$y$$ death soldiers | $$0$$ | $$1$$ | $$2$$ | $$3$$ | $$4$$ | $$\\geq5$$ |\n",
    "| :-: | :-: | :-: | :-: | :-: | :-: | :-: |\n",
    "| $$n_1$$ observations | 109 | 65 | 22 | 3 | 1 | 0 |\n",
    "| $$n_2$$ observations | 144 | 91 | 32 | 11 | 2 | 0 |"
   ]
  },
  {
   "cell_type": "markdown",
   "id": "1cf9ba62",
   "metadata": {},
   "source": [
    "### 2.1\n",
    "\n",
    "Assuming a uniform prior, compute and plot the posterior distribution for $\\lambda$, the death rate over the measurement time. Determine the posterior mean, median and variance, and compute the $95 \\%$ credibility interval."
   ]
  },
  {
   "cell_type": "markdown",
   "id": "dc709994",
   "metadata": {},
   "source": [
    "The likelihood for a single measurement of a Poisson process is \n",
    "$$f(x|\\mu)=\\frac{\\mu^x e^{-\\mu}}{x!} \\text{ with } \\mu>0 \\text{ and } x = 0,1,...$$ \n",
    "in case of multiple indipendent measurements this expression becomes \n",
    "$$f(\\{x_k\\}|\\mu) = \\prod^n_{k=1} f(x_k|\\mu)\\propto \\mu^{\\sum x_k} \\cdot e^{-n\\mu}$$ \n",
    "which has the form of a Gamma distribution:\n",
    "$$Gamma(x|\\alpha,\\lambda)=kx^{\\alpha-1} e^{-\\lambda x}$$\n",
    "\n",
    "In the case of a prior uniform distribution we can see it as a Gamma function, $Gamma(1,0)$, in the case of a Jeffreys prior as a $Gamma\\left(\\frac{1}{2},0\\right)$.\n",
    "For a positive uniform prior the posterior is $Gamma(\\alpha,\\lambda)$ with $$\\alpha=\\sum_k x_k +1 \\text{ and } \\lambda = n$$\n",
    "for a Jeffreys prior the posterior is a $Gamma(\\alpha,\\lambda)$ with $$\\alpha=\\sum_k x_k +\\frac{1}{2} \\text{ and } \\lambda = n$$"
   ]
  },
  {
   "cell_type": "code",
   "execution_count": 13,
   "id": "4d0c95c1",
   "metadata": {},
   "outputs": [],
   "source": [
    "n1 = c(109,65,22,3,1,0)\n",
    "n2 = c(144,91,32,11,2,0)"
   ]
  },
  {
   "cell_type": "code",
   "execution_count": 14,
   "id": "d011a9fe",
   "metadata": {},
   "outputs": [],
   "source": [
    "delta.p = 0.01\n",
    "p = seq(20,60,delta.p)\n",
    "alpha_u1 = sum(n1)+1\n",
    "alpha_u2 = sum(n2)+1\n",
    "lambda = length(n1)\n",
    "unif_pt1 = dgamma(p,alpha_u1,lambda)/(delta.p*sum(dgamma(p,alpha_u1,lambda)))\n",
    "unif_pt2 = dgamma(p,alpha_u2,lambda)/(delta.p*sum(dgamma(p,alpha_u2,lambda)))"
   ]
  },
  {
   "cell_type": "code",
   "execution_count": 15,
   "id": "b2bac9f1",
   "metadata": {},
   "outputs": [],
   "source": [
    "mean_unif1 = alpha_u1/lambda\n",
    "var_unif1 = alpha_u1/lambda^2\n",
    "mean_unif2 = alpha_u2/lambda\n",
    "var_unif2 = alpha_u2/lambda^2\n",
    "int1 = cumsum(unif_pt1)*delta.p\n",
    "int2 = cumsum(unif_pt2)*delta.p\n",
    "med_unif1 = p[length(which(int1<=0.5))]\n",
    "med_unif2 = p[length(which(int2<=0.5))]\n",
    "ci1 = qgamma(c(0.025,0.975), alpha_u1, lambda)\n",
    "ci2 = qgamma(c(0.025,0.975), alpha_u2, lambda)"
   ]
  },
  {
   "cell_type": "code",
   "execution_count": 16,
   "id": "3692de36",
   "metadata": {},
   "outputs": [
    {
     "name": "stdout",
     "output_type": "stream",
     "text": [
      "**Uniform Prior, first dataset**\n",
      "\tMean: 33.5\n",
      "\tVariance: 5.5833\n",
      "\tMedian: 33.43\n",
      "\tConfidence interval: 29.0286  38.287\n",
      "\n",
      "**Uniform Prior, second dataset**\n",
      "\tMean: 46.8333\n",
      "\tVariance: 7.8056\n",
      "\tMedian: 46.77\n",
      "\tConfidence interval: 41.517  52.4653"
     ]
    }
   ],
   "source": [
    "cat('**Uniform Prior, first dataset**')\n",
    "cat('\\n\\tMean:',round(mean_unif1,4))\n",
    "cat('\\n\\tVariance:',round(var_unif1,4))\n",
    "cat('\\n\\tMedian:',round(med_unif1,4))\n",
    "cat('\\n\\tConfidence interval:',round(ci1[1],4), '', round(ci1[2],4))\n",
    "cat('\\n\\n**Uniform Prior, second dataset**')\n",
    "cat('\\n\\tMean:',round(mean_unif2,4))\n",
    "cat('\\n\\tVariance:',round(var_unif2,4))\n",
    "cat('\\n\\tMedian:',round(med_unif2,4))\n",
    "cat('\\n\\tConfidence interval:',round(ci2[1],4), '', round(ci2[2],4))"
   ]
  },
  {
   "cell_type": "code",
   "execution_count": 17,
   "id": "35aa1547",
   "metadata": {},
   "outputs": [
    {
     "data": {
      "image/png": "[encoded data removed]",
      "text/plain": [
       "Plot with title \"paste(\"Posterior distributions from Uniform priors\")\""
      ]
     },
     "metadata": {},
     "output_type": "display_data"
    }
   ],
   "source": [
    "options(repr.plot.width=8, repr.plot.height=6)\n",
    "plot(p, unif_pt1, main = TeX(\"Posterior distributions from Uniform priors\"),\n",
    "     col=\"deepskyblue3\",\n",
    "     xlab = TeX('$p$'), ylab = TeX('$P(p|y)$'), cex.lab=1, cex.axis=0.8, cex.main=1, type='l', lwd=2)\n",
    "lines(p, unif_pt2, col=\"red\", type='l', lwd=2)\n",
    "abline(v = ci1[1], col=\"deepskyblue3\", lwd=2, lty=2)\n",
    "abline(v = ci1[2], col=\"deepskyblue3\", lwd=2, lty=2)\n",
    "abline(v = mean_unif1, col=\"darkblue\", lwd=1, lty=1)\n",
    "abline(v = ci2[1], col=\"red\", lwd=2, lty=2)\n",
    "abline(v = ci2[2], col=\"red\", lwd=2, lty=2)\n",
    "abline(v = mean_unif2, col=\"darkred\", lwd=1, lty=1)\n",
    "text(0.98*ci1[1], 0.1, labels=expression(\"p = 29.03 (2.5%)\"), srt=90, pos=3, cex=0.8, col=\"deepskyblue3\",  xpd=TRUE)\n",
    "text(0.99*ci1[2], 0.1, labels=expression(\"p = 38.29 (97.5%)\"), srt=90, pos=3, cex=0.8, col=\"deepskyblue3\",  xpd=TRUE)\n",
    "text(0.97*ci2[1], 0.1, labels=expression('p = 41.52 (2.5%)'), pos=1, srt=90, cex=0.8, col=\"red\", xpd=TRUE)\n",
    "text(0.98*ci2[2], 0.1, labels=expression('p = 52.47 (97.5%)'), srt=90, pos=1, cex=0.8, col=\"red\", xpd=TRUE)\n",
    "text(0.97*mean_unif1, 0.1, labels=expression('Mean = 33.5'), pos=1, srt=90, cex=0.8, col=\"darkblue\", xpd=TRUE)\n",
    "text(0.98*mean_unif2, 0.1, labels=expression('Mean = 46.83'), srt=90, pos=1, cex=0.8, col=\"darkred\", xpd=TRUE)\n",
    "legend(19, 0.17, legend=c(\"From Dataset 1\",\"From Dataset 2\"),\n",
    "        col=c(\"deepskyblue3\",\"red\"), lty = c(1,1), lwd = c(3,3), cex=0.7, box.lty = 0)"
   ]
  },
  {
   "cell_type": "markdown",
   "id": "516c3ee1",
   "metadata": {},
   "source": [
    "### 2.2\n",
    "\n",
    "Assuming now a Jeffreys prior\n",
    "\n",
    "$$\n",
    "g(\\lambda) \\propto 1/\\sqrt(\\lambda) \\quad \\lambda > 0\n",
    "$$\n",
    "\n",
    "compute and plot the posterior distribution for $\\lambda$, the death rate over the measurement time. Determine the posterior mean, median and variance, and compute the $95 \\%$ credibility interval."
   ]
  },
  {
   "cell_type": "code",
   "execution_count": 18,
   "id": "a7a98c8a",
   "metadata": {},
   "outputs": [],
   "source": [
    "alpha_j1 = sum(n1)+0.5\n",
    "alpha_j2 = sum(n2)+0.5\n",
    "lambda = length(n1)\n",
    "jeff_pt1 = dgamma(p,alpha_j1,lambda)/(delta.p*sum(dgamma(p,alpha_j1,lambda)))\n",
    "jeff_pt2 = dgamma(p,alpha_j2,lambda)/(delta.p*sum(dgamma(p,alpha_j2,lambda)))"
   ]
  },
  {
   "cell_type": "code",
   "execution_count": 19,
   "id": "030d1cb6",
   "metadata": {},
   "outputs": [],
   "source": [
    "mean_jeff1 = alpha_j1/lambda\n",
    "var_jeff1 = alpha_j1/lambda^2\n",
    "mean_jeff2 = alpha_j2/lambda\n",
    "var_jeff2 = alpha_j2/lambda^2\n",
    "int1 = cumsum(jeff_pt1)*delta.p\n",
    "int2 = cumsum(jeff_pt2)*delta.p\n",
    "med_jeff1 = p[length(which(int1<=0.5))]\n",
    "med_jeff2 = p[length(which(int2<=0.5))]\n",
    "ci1 = qgamma(c(0.025,0.975), alpha_j1, lambda)\n",
    "ci2 = qgamma(c(0.025,0.975), alpha_j2, lambda)"
   ]
  },
  {
   "cell_type": "code",
   "execution_count": 20,
   "id": "29c2b337",
   "metadata": {},
   "outputs": [
    {
     "name": "stdout",
     "output_type": "stream",
     "text": [
      "**Jeffreys Prior, first dataset**\n",
      "\tMean: 33.4167\n",
      "\tVariance: 5.5694\n",
      "\tMedian: 33.35\n",
      "\tConfidence interval: 28.951  38.1979\n",
      "\n",
      "**Jeffreys Prior, second dataset**\n",
      "\tMean: 46.75\n",
      "\tVariance: 7.7917\n",
      "\tMedian: 46.68\n",
      "\tConfidence interval: 41.4386  52.3771"
     ]
    }
   ],
   "source": [
    "cat('**Jeffreys Prior, first dataset**')\n",
    "cat('\\n\\tMean:',round(mean_jeff1,4))\n",
    "cat('\\n\\tVariance:',round(var_jeff1,4))\n",
    "cat('\\n\\tMedian:',round(med_jeff1,4))\n",
    "cat('\\n\\tConfidence interval:',round(ci1[1],4), '', round(ci1[2],4))\n",
    "cat('\\n\\n**Jeffreys Prior, second dataset**')\n",
    "cat('\\n\\tMean:',round(mean_jeff2,4))\n",
    "cat('\\n\\tVariance:',round(var_jeff2,4))\n",
    "cat('\\n\\tMedian:',round(med_jeff2,4))\n",
    "cat('\\n\\tConfidence interval:',round(ci2[1],4), '', round(ci2[2],4))"
   ]
  },
  {
   "cell_type": "code",
   "execution_count": 21,
   "id": "4c57b800",
   "metadata": {},
   "outputs": [
    {
     "data": {
      "image/png": "[encoded data removed]",
      "text/plain": [
       "Plot with title \"paste(\"Posterior distributions from Jeffrey\", minute, \"s priors\")\""
      ]
     },
     "metadata": {},
     "output_type": "display_data"
    }
   ],
   "source": [
    "options(repr.plot.width=8, repr.plot.height=6)\n",
    "plot(p, jeff_pt1, main = TeX(\"Posterior distributions from Jeffrey's priors\"),\n",
    "     col=\"deepskyblue3\",\n",
    "     xlab = TeX('$lambda$'), ylab = TeX('$P(lambda|y)$'), cex.lab=0.8, cex.axis=0.8, cex.main=1, type='l', lwd=2)\n",
    "lines(p, jeff_pt2, col=\"red\", type='l', lwd=2)\n",
    "abline(v = ci1[1], col=\"deepskyblue3\", lwd=2, lty=2)\n",
    "abline(v = ci1[2], col=\"deepskyblue3\", lwd=2, lty=2)\n",
    "abline(v = mean_jeff1, col=\"darkblue\", lwd=1, lty=1)\n",
    "abline(v = ci2[1], col=\"red\", lwd=2, lty=2)\n",
    "abline(v = ci2[2], col=\"red\", lwd=2, lty=2)\n",
    "abline(v = mean_jeff2, col=\"darkred\", lwd=1, lty=1)\n",
    "text(0.98*ci1[1], 0.1, labels=expression(\"p = 28.95 (2.5%)\"), srt=90, pos=3, cex=0.8, col=\"deepskyblue3\",  xpd=TRUE)\n",
    "text(0.99*ci1[2], 0.1, labels=expression(\"p = 38.20 (97.5%)\"), srt=90, pos=3, cex=0.8, col=\"deepskyblue3\",  xpd=TRUE)\n",
    "text(0.97*ci2[1], 0.1, labels=expression('p = 41.44 (2.5%)'), pos=1, srt=90, cex=0.8, col=\"red\", xpd=TRUE)\n",
    "text(0.98*ci2[2], 0.1, labels=expression('p = 52.38 (97.5%)'), srt=90, pos=1, cex=0.8, col=\"red\", xpd=TRUE)\n",
    "text(0.97*mean_jeff1, 0.1, labels=expression('Mean = 33.42'), pos=1, srt=90, cex=0.8, col=\"darkblue\", xpd=TRUE)\n",
    "text(0.98*mean_jeff2, 0.1, labels=expression('Mean = 46.75'), srt=90, pos=1, cex=0.8, col=\"darkred\", xpd=TRUE)\n",
    "legend(19, 0.17, legend=c(\"From Dataset 1\",\"From Dataset 2\"),\n",
    "        col=c(\"deepskyblue3\",\"red\"), lty = c(1,1), lwd = c(3,3), cex=0.7, box.lty = 0)"
   ]
  },
  {
   "cell_type": "markdown",
   "id": "e2801b4a",
   "metadata": {},
   "source": [
    "## Exercise 3"
   ]
  },
  {
   "cell_type": "markdown",
   "id": "a4815653",
   "metadata": {},
   "source": [
    "In a study on water quality of streams, a high level of bacter $X$ was defined as a level greater than $100$ per $100 \\ ml$ of stream water. $n = 116$ samples were taken from streams having a high environmental impact on pandas. Out of these, $y = 11$ had a high bacter $X$ level.<br>"
   ]
  },
  {
   "cell_type": "markdown",
   "id": "343e671a",
   "metadata": {},
   "source": [
    "### 3.1\n",
    "\n",
    "Indicating with $p$ the probability that a sample of water taken from the stream has a high bacter $X$ level find the frequentist estimator for $p$."
   ]
  },
  {
   "cell_type": "code",
   "execution_count": 22,
   "id": "b3058386",
   "metadata": {},
   "outputs": [
    {
     "name": "stdout",
     "output_type": "stream",
     "text": [
      "Frequentist estimator for p: 0.095"
     ]
    }
   ],
   "source": [
    "n = 116\n",
    "y = 11\n",
    "p_freq = y/n\n",
    "cat('Frequentist estimator for p:', round(p_freq, 3))"
   ]
  },
  {
   "cell_type": "markdown",
   "id": "28946e02",
   "metadata": {},
   "source": [
    "### 3.2\n",
    "\n",
    "Using a $Beta(1, 10)$ prior for $p$, calculate the posterior distribution $P(p|y)$."
   ]
  },
  {
   "cell_type": "code",
   "execution_count": 23,
   "id": "12c2e38e",
   "metadata": {},
   "outputs": [],
   "source": [
    "n_p = 1001\n",
    "p = seq(0, 1, length.out=n_p)\n",
    "delta.p = p[2] - p[1]\n",
    "alpha = 1 + 11\n",
    "beta = 10 + 116 - 11\n",
    "beta_post = dbeta(p, alpha, beta)/(delta.p*sum(dbeta(p, alpha, beta)))"
   ]
  },
  {
   "cell_type": "code",
   "execution_count": 24,
   "id": "0e34baf7",
   "metadata": {
    "scrolled": false
   },
   "outputs": [
    {
     "data": {
      "image/png": "[encoded data removed]",
      "text/plain": [
       "Plot with title \"paste(\"Posterior PDF for Beta\", \"(\", \"1\", \", 10\", \")\", \" Prior\")\""
      ]
     },
     "metadata": {},
     "output_type": "display_data"
    }
   ],
   "source": [
    "options(repr.plot.width=6, repr.plot.height=6)\n",
    "plot(p, beta_post, main = TeX(\"Posterior PDF for Beta(1,10) Prior\"),\n",
    "     col=\"deepskyblue3\", xlim = c(0,0.2), xlab = TeX('$p$'), ylab = TeX('$P(p|y)$'),\n",
    "     cex.lab=0.7, cex.axis=0.6, cex.main=0.8, type='l', lwd=3)"
   ]
  },
  {
   "cell_type": "markdown",
   "id": "6f49782e",
   "metadata": {},
   "source": [
    "### 3.3\n",
    "\n",
    "Find the bayesian estimator for $p$, the posterior mean and variance, and a $95\\%$ credible interval."
   ]
  },
  {
   "cell_type": "code",
   "execution_count": 25,
   "id": "5677e364",
   "metadata": {},
   "outputs": [],
   "source": [
    "# posterior mean, which is also the bayesian estimator\n",
    "p_bay = alpha/(alpha+beta)\n",
    "\n",
    "# variance\n",
    "var_beta = (1/(116+2))^2*116*p_bay*(1-p_bay)\n",
    "\n",
    "# 95% credibility interval\n",
    "est_beta = qbeta(c(0.025,0.975), alpha, beta)"
   ]
  },
  {
   "cell_type": "code",
   "execution_count": 26,
   "id": "dad8f2a9",
   "metadata": {},
   "outputs": [
    {
     "name": "stdout",
     "output_type": "stream",
     "text": [
      "Bayesian estimator for p: 0.094\n",
      "Posterior mean: 0.094\n",
      "Posterior variance: 0.00071\n",
      "95% credibility interval: 0.0502 - 0.151"
     ]
    }
   ],
   "source": [
    "cat('Bayesian estimator for p:', round(p_bay,3))\n",
    "cat('\\nPosterior mean:', round(p_bay,3))\n",
    "cat('\\nPosterior variance:', round(var_beta, 5))\n",
    "cat('\\n95% credibility interval:', round(est_beta[1],4), '-', round(est_beta[2],3))"
   ]
  },
  {
   "cell_type": "markdown",
   "id": "e3d6742b",
   "metadata": {},
   "source": [
    "### 3.4\n",
    "\n",
    "Test the hypotesis\n",
    "\n",
    "$$H_0: p=0.1 \\text{ versus } H_1: p\\neq0.1$$\n",
    "\n",
    "at $5\\%$ level of significance with both the frequentist and bayesian approach.\n"
   ]
  },
  {
   "cell_type": "code",
   "execution_count": 27,
   "id": "1abf8ea7",
   "metadata": {},
   "outputs": [],
   "source": [
    "p.H0  = 0.1\n",
    "alpha_sig = 0.05\n",
    "\n",
    "x_test = seq.int(0, n, 1)\n",
    "p_test = pbinom(x_test, n, p.H0)\n",
    "x_ac = x_test[p_test>0.025 & p_test<0.975] # accepted values\n",
    "x_rl = x_test[p_test<=0.025] # left rejected values\n",
    "x_rr = x_test[p_test>=0.975] # right rejected values\n",
    "pp_test = dbinom(x_test, n, p.H0)"
   ]
  },
  {
   "cell_type": "code",
   "execution_count": 28,
   "id": "34359483",
   "metadata": {},
   "outputs": [],
   "source": [
    "colors = c(rep(\"darkred\", length(x_rl)), rep(\"deepskyblue3\",  length(x_ac)), rep(\"darkred\", length(x_rr)))\n",
    "density = c(rep(40, length(x_rl)), rep(100, length(x_ac)), rep(40, length(x_rr)))\n",
    "angle = c(rep(45, length(x_rl)), rep(0, length(x_ac)), rep(135, length(x_rr)))"
   ]
  },
  {
   "cell_type": "code",
   "execution_count": 29,
   "id": "ec113e19",
   "metadata": {},
   "outputs": [
    {
     "data": {
      "image/png": "[encoded data removed]",
      "text/plain": [
       "Plot with title \"paste(\"Hypothesis testing: frequentist approach\")\""
      ]
     },
     "metadata": {},
     "output_type": "display_data"
    }
   ],
   "source": [
    "options(repr.plot.width=8, repr.plot.height=5)\n",
    "barplot(height=pp_test[1:25],\n",
    "        names.arg=x_test[1:25], \n",
    "        density = density[1:25], angle = angle[1:25], col = colors,\n",
    "        ylim=c(0,1.1*max(pp_test)),\n",
    "        main = TeX(\"Hypothesis testing: frequentist approach\"), xlab = TeX('$y$'), ylab = TeX('$Density$'),\n",
    "        cex.lab=0.7, cex.axis=0.6, cex.main=0.8, cex.names = 0.7)\n",
    "abline(v = 13.9, col=\"darkgreen\", lwd=2, lty=3)\n",
    "text(13.9, par(\"usr\")[4], labels=expression(\"y = 11\"),  pos=3, cex=0.8, col=\"darkgreen\",  xpd=TRUE)\n",
    "legend(x=\"topright\", inset=0.05, legend=c(TeX(\"Accept $H_0$\"),TeX(\"Reject $H_0$\")),\n",
    "       fill=c('deepskyblue3', 'darkred'), density = c(100, 40), angle = c(0, 45))\n",
    "box()"
   ]
  },
  {
   "cell_type": "markdown",
   "id": "15ee3d7b",
   "metadata": {},
   "source": [
    "We can't reject the null hypothesis $H_0$ at a significance level of $5 \\%$ since our measurement $y=11$ lies in the acceptance region."
   ]
  },
  {
   "cell_type": "code",
   "execution_count": 30,
   "id": "38486270",
   "metadata": {},
   "outputs": [
    {
     "data": {
      "image/png": "[encoded data removed]",
      "text/plain": [
       "Plot with title \"paste(\"Posterior PDF for Beta\", \"(\", \"1\", \", 10\", \")\", \" Prior\")\""
      ]
     },
     "metadata": {},
     "output_type": "display_data"
    }
   ],
   "source": [
    "options(repr.plot.width=7, repr.plot.height=5)\n",
    "plot(p, beta_post, main = TeX(\"Posterior PDF for Beta(1,10) Prior\"),\n",
    "     xlim=c(0,0.2),\n",
    "     col=\"darkblue\", xlab = TeX('$p$'), ylab = TeX('$P(p|y)$'), \n",
    "     cex.lab=0.7, cex.axis=0.6, cex.main=0.8, type='l', lwd=2)\n",
    "abline(v = est_beta[1], col=\"red\", lwd=2, lty=2)\n",
    "abline(v = est_beta[2], col=\"red\", lwd=2, lty=2)\n",
    "abline(v = p.H0, col=\"black\", lwd=2, lty=1)\n",
    "text(est_beta[1], par(\"usr\")[4], labels=expression(\"p = 0.05 (2.5%)\"),  pos=3, cex=0.7, col=\"red\",  xpd=TRUE)\n",
    "text(est_beta[2], par(\"usr\")[4], labels=expression(\"p = 0.151 (97.5%)\"), pos=3, cex=0.7, col=\"red\",  xpd=TRUE)\n",
    "text(p.H0, par(\"usr\")[4], labels=expression('p = 0.1 (H0)'), pos=3, cex=0.7, col=\"black\", xpd=TRUE)"
   ]
  },
  {
   "cell_type": "markdown",
   "id": "ee1f32d2",
   "metadata": {},
   "source": [
    "We can't reject the null hypothesis $H_0$ at a significance level of $5 \\%$ since $p_0$ lies in the acceptance region."
   ]
  },
  {
   "cell_type": "markdown",
   "id": "8468245d",
   "metadata": {},
   "source": [
    "A new measurement, performed one month later on $n = 165$ water samples, gives $y = 9$ high bacter $X$ level.\n",
    "### 3.5\n",
    "\n",
    "Find the frequentist estimator for $p$."
   ]
  },
  {
   "cell_type": "code",
   "execution_count": 31,
   "id": "987e94cf",
   "metadata": {},
   "outputs": [
    {
     "name": "stdout",
     "output_type": "stream",
     "text": [
      "Frequentist estimator for p: 0.055"
     ]
    }
   ],
   "source": [
    "n = 165\n",
    "y = 9\n",
    "p_freq = y/n\n",
    "cat('Frequentist estimator for p:', round(p_freq, 3))"
   ]
  },
  {
   "cell_type": "markdown",
   "id": "43bd46ad",
   "metadata": {},
   "source": [
    "### 3.6\n",
    "\n",
    "Find a bayesian estimator for $p$, assuming both a $Beta(1, 10)$ prior for $p$, and assuming the posterior probability of the older measurement as the prior for the new one."
   ]
  },
  {
   "cell_type": "markdown",
   "id": "bada97ac",
   "metadata": {},
   "source": [
    "### 3.7\n",
    "\n",
    "Find the bayesian estimator for $p$, the posterior mean and variance, and a $95\\%$ credible interval."
   ]
  },
  {
   "cell_type": "code",
   "execution_count": 32,
   "id": "a7f41da3",
   "metadata": {},
   "outputs": [],
   "source": [
    "# for the Beta(1,10) prior\n",
    "n_p = 1001\n",
    "p = seq(0, 1, length.out=n_p)\n",
    "delta.p = p[2] - p[1]\n",
    "alpha_1 = 1 + y\n",
    "beta_1 = 10 + n - y\n",
    "beta_post_1 = dbeta(p, alpha_1, beta_1)/(delta.p*sum(dbeta(p, alpha_1, beta_1)))\n",
    "\n",
    "# for the posterior of the previous point as prior we have a Beta(12, 115) prior\n",
    "alpha_2 = 12 + y\n",
    "beta_2 = 115 + n - y\n",
    "beta_post_2 = dbeta(p, alpha_2, beta_2)/(delta.p*sum(dbeta(p, alpha_2, beta_2)))"
   ]
  },
  {
   "cell_type": "code",
   "execution_count": 33,
   "id": "242a40fd",
   "metadata": {},
   "outputs": [],
   "source": [
    "# posterior mean, which is also the bayesian estimator\n",
    "p_bay_1 = alpha_1/(alpha_1+beta_1)\n",
    "p_bay_2 = alpha_2/(alpha_2+beta_2)\n",
    "\n",
    "# variance\n",
    "var_beta_1 = (1/(n+2))^2*n*p_bay_1*(1-p_bay_1)\n",
    "var_beta_2 = (1/(n+2))^2*n*p_bay_2*(1-p_bay_2)\n",
    "\n",
    "# 95% credibility interval\n",
    "est_beta_1 = qbeta(c(0.025,0.975), alpha_1, beta_1)\n",
    "est_beta_2 = qbeta(c(0.025,0.975), alpha_2, beta_2)"
   ]
  },
  {
   "cell_type": "code",
   "execution_count": 34,
   "id": "dc8ac977",
   "metadata": {
    "scrolled": true
   },
   "outputs": [
    {
     "name": "stdout",
     "output_type": "stream",
     "text": [
      "***Results for Beta(1,10) prior***\n",
      " \n",
      "Bayesian estimator for p: 0.057\n",
      "Posterior mean: 0.057\n",
      "Posterior variance: 0.00032\n",
      "95% credibility interval: 0.028 - 0.095\n",
      " \n",
      "***Results for Beta(12,115) prior***\n",
      " \n",
      "Bayesian estimator for p: 0.072\n",
      "Posterior mean: 0.072\n",
      "Posterior variance: 0.00039\n",
      "95% credibility interval: 0.045 - 0.104"
     ]
    }
   ],
   "source": [
    "cat('***Results for Beta(1,10) prior***')\n",
    "cat('\\n \\nBayesian estimator for p:', round(p_bay_1,3))\n",
    "cat('\\nPosterior mean:', round(p_bay_1,3))\n",
    "cat('\\nPosterior variance:', round(var_beta_1, 5))\n",
    "cat('\\n95% credibility interval:', round(est_beta_1[1],3), '-', round(est_beta_1[2],3))\n",
    "cat('\\n \\n***Results for Beta(12,115) prior***')\n",
    "cat('\\n \\nBayesian estimator for p:', round(p_bay_2,3))\n",
    "cat('\\nPosterior mean:', round(p_bay_2,3))\n",
    "cat('\\nPosterior variance:', round(var_beta_2, 5))\n",
    "cat('\\n95% credibility interval:', round(est_beta_2[1],3), '-', round(est_beta_2[2],3))"
   ]
  },
  {
   "cell_type": "markdown",
   "id": "c4b71f8d",
   "metadata": {},
   "source": [
    "### 3.8 \n",
    "\n",
    "Test the hypotesis\n",
    "$$H_0: p=0.1 \\text{ versus } H_1: p\\neq0.1$$\n",
    "at $5\\%$ level of significance with both the frequentist and bayesian approach."
   ]
  },
  {
   "cell_type": "code",
   "execution_count": 35,
   "id": "b50323b6",
   "metadata": {},
   "outputs": [],
   "source": [
    "p.H0  = 0.1\n",
    "alpha_sig = 0.05\n",
    "\n",
    "x_test = seq.int(0, n, 1)\n",
    "p_test = pbinom(x_test, n, p.H0)\n",
    "x_ac = x_test[p_test>0.03 & (1-p_test)>0.02] # accepted values\n",
    "x_rl = x_test[p_test<=0.03] # left rejected values\n",
    "x_rr = x_test[(1-p_test)<=0.02] # right rejected values\n",
    "pp_test = dbinom(x_test, n, p.H0)"
   ]
  },
  {
   "cell_type": "code",
   "execution_count": 36,
   "id": "d8867cab",
   "metadata": {},
   "outputs": [],
   "source": [
    "colors = c(rep(\"darkred\", length(x_rl)), rep(\"deepskyblue3\",  length(x_ac)), rep(\"darkred\", length(x_rr)))\n",
    "density = c(rep(40, length(x_rl)), rep(100, length(x_ac)), rep(40, length(x_rr)))\n",
    "angle = c(rep(45, length(x_rl)), rep(0, length(x_ac)), rep(135, length(x_rr)))"
   ]
  },
  {
   "cell_type": "code",
   "execution_count": 37,
   "id": "61787b6f",
   "metadata": {
    "scrolled": false
   },
   "outputs": [
    {
     "data": {
      "image/png": "[encoded data removed]",
      "text/plain": [
       "Plot with title \"paste(\"Hypothesis testing: frequentist approach\")\""
      ]
     },
     "metadata": {},
     "output_type": "display_data"
    }
   ],
   "source": [
    "options(repr.plot.width=9, repr.plot.height=5)\n",
    "barplot(height=pp_test[1:30],\n",
    "        names.arg=x_test[1:30], \n",
    "        density = density[1:30], angle = angle[1:30], col = colors,\n",
    "        ylim=c(0,1.1*max(pp_test)),\n",
    "        main = TeX(\"Hypothesis testing: frequentist approach\"), xlab = TeX('$y$'), ylab = TeX('$Density$'),\n",
    "        cex.lab=0.7, cex.axis=0.6, cex.main=0.8, cex.names=0.7)\n",
    "abline(v = 11.5, col=\"darkgreen\", lwd=2, lty=3)\n",
    "text(11.5, par(\"usr\")[4], labels=expression(\"y = 9\"),  pos=3, cex=0.8, col=\"darkgreen\",  xpd=TRUE)\n",
    "legend(x=\"topright\", inset=0.05, legend=c(TeX(\"Accept $H_0$\"),TeX(\"Reject $H_0$\")),\n",
    "       fill=c('deepskyblue3', 'darkred'), density = c(100, 40), angle = c(0, 45))\n",
    "box()"
   ]
  },
  {
   "cell_type": "markdown",
   "id": "3c8d3186",
   "metadata": {},
   "source": [
    "We can reject the null hypothesis $H_0$ at a significance level of $5 \\%$ since our measurement $y=9$ lies in the reject region."
   ]
  },
  {
   "cell_type": "code",
   "execution_count": 38,
   "id": "7dba4761",
   "metadata": {
    "scrolled": false
   },
   "outputs": [
    {
     "data": {
      "image/png": "[encoded data removed]",
      "text/plain": [
       "Plot with title \"paste(\"Bayesian hypothesis testing for Beta\", \"(\", \"1\", \", 10\", \")\", \" Prior\")\""
      ]
     },
     "metadata": {},
     "output_type": "display_data"
    }
   ],
   "source": [
    "options(repr.plot.width=7, repr.plot.height=5)\n",
    "plot(p, beta_post_1, main = TeX(\"Bayesian hypothesis testing for Beta(1,10) Prior\"),\n",
    "     xlim=c(0,0.15), ylim=c(0,1.1*max(beta_post_2)),\n",
    "     col=\"darkblue\", xlab = TeX('$p$'), ylab = TeX('$P(p|y)$'), \n",
    "     cex.lab=0.7, cex.axis=0.6, cex.main=0.8, type='l', lwd=2)\n",
    "abline(v = est_beta_1[1], col=\"darkblue\", lwd=2, lty=2)\n",
    "abline(v = est_beta_1[2], col=\"darkblue\", lwd=2, lty=2)\n",
    "abline(v = p.H0, col=\"black\", lwd=2, lty=1)\n",
    "text(0.9*est_beta_1[1], 23, labels=expression(\"p = 0.028 (2.5%)\"), srt=90, pos=3, cex=0.7, col=\"darkblue\",  xpd=TRUE)\n",
    "text(0.98*est_beta_1[2], 23, labels=expression(\"p = 0.095 (97.5%)\"), srt=90, pos=3, cex=0.7, col=\"darkblue\",  xpd=TRUE)\n",
    "text(1.1*p.H0, 10, labels=expression('p = 0.1 (H0)'), pos=1, cex=0.7, col=\"black\", xpd=TRUE)"
   ]
  },
  {
   "cell_type": "markdown",
   "id": "0ddbad90",
   "metadata": {},
   "source": [
    "We can reject the null hypothesis $H_0$ at a significance level of $5 \\%$ since our measurement $p_0$ lies outside the acceptance region."
   ]
  },
  {
   "cell_type": "code",
   "execution_count": 39,
   "id": "71a00813",
   "metadata": {},
   "outputs": [
    {
     "data": {
      "image/png": "[encoded data removed]",
      "text/plain": [
       "Plot with title \"paste(\"Bayesian hypothesis testing for Beta\", \"(\", \"12\", \", 115\", \")\", \" Prior\")\""
      ]
     },
     "metadata": {},
     "output_type": "display_data"
    }
   ],
   "source": [
    "options(repr.plot.width=7, repr.plot.height=5)\n",
    "plot(p, beta_post_2, main = TeX(\"Bayesian hypothesis testing for Beta(12,115) Prior\"),\n",
    "     xlim=c(0,0.15), ylim=c(0,1.1*max(beta_post_2)),\n",
    "     col=\"darkblue\", xlab = TeX('$p$'), ylab = TeX('$P(p|y)$'), \n",
    "     cex.lab=0.7, cex.axis=0.6, cex.main=0.8, type='l', lwd=2)\n",
    "abline(v = est_beta_2[1], col=\"darkblue\", lwd=2, lty=2)\n",
    "abline(v = est_beta_2[2], col=\"darkblue\", lwd=2, lty=2)\n",
    "abline(v = p.H0, col=\"black\", lwd=2, lty=1)\n",
    "text(0.96*est_beta_2[1], 23, labels=expression(\"p = 0.045 (2.5%)\"), srt=90, pos=3, cex=0.7, col=\"darkblue\",  xpd=TRUE)\n",
    "text(1.04*est_beta_2[2], 23, labels=expression(\"p = 0.104 (97.5%)\"), srt=90,pos=3, cex=0.7, col=\"darkblue\",  xpd=TRUE)\n",
    "text(0.96*p.H0, 25, labels=expression('p = 0.1 (H0)'), srt=90, pos=1, cex=0.7, col=\"black\", xpd=TRUE)"
   ]
  },
  {
   "cell_type": "markdown",
   "id": "8fc3fd40",
   "metadata": {},
   "source": [
    "We can't reject the null hypothesis $H_0$ at a significance level of $5 \\%$ since $p_0$ lies in the acceptance region."
   ]
  }
 ],
 "metadata": {
  "kernelspec": {
   "display_name": "R",
   "language": "R",
   "name": "ir"
  },
  "language_info": {
   "codemirror_mode": "r",
   "file_extension": ".r",
   "mimetype": "text/x-r-source",
   "name": "R",
   "pygments_lexer": "r",
   "version": "3.6.1"
  }
 },
 "nbformat": 4,
 "nbformat_minor": 5
}
