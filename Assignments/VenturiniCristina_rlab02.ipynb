{
 "cells": [
  {
   "cell_type": "markdown",
   "id": "ac787cf7",
   "metadata": {},
   "source": [
    "# Cristina Venturini 2022461"
   ]
  },
  {
   "cell_type": "code",
   "execution_count": 1,
   "id": "ca723133",
   "metadata": {
    "scrolled": true
   },
   "outputs": [
    {
     "name": "stderr",
     "output_type": "stream",
     "text": [
      "Warning message:\n",
      "\"package 'tibble' was built under R version 3.6.3\"Warning message:\n",
      "\"package 'ggplot2' was built under R version 3.6.3\""
     ]
    }
   ],
   "source": [
    "library(tibble)\n",
    "library(ggplot2)\n",
    "library(RConics)\n",
    "theme_set(theme_bw())"
   ]
  },
  {
   "cell_type": "markdown",
   "id": "0ac7f367",
   "metadata": {},
   "source": [
    "## Exercise 1"
   ]
  },
  {
   "cell_type": "markdown",
   "id": "5aa3e30f",
   "metadata": {},
   "source": [
    "A set of measurements have been performed on the concentration of a contaminant in tap water. <br>\n",
    "The following table reports a set of values ($x$), with the corresponding probabilities given by the two methods ($p1$ and $p2$).\n",
    "\n",
    "| $$x$$ | 15.58 | 15.9 | 16 | 16.1 | 16.2\n",
    "| -: | :-: | :-: | :-: | :-: | :-: \n",
    "| $$p_1$$ | 0.15 | 0.21 | 0.35 | 0.15 | 0.14\n",
    "| $$p_2$$ | 0.14 | 0.05 | 0.64 | 0.08 | 0.09\n",
    "\n",
    "Evaluate the expected values, E[X], and the variance, Var(X), for both methods."
   ]
  },
  {
   "cell_type": "code",
   "execution_count": 2,
   "id": "c39e3a64",
   "metadata": {},
   "outputs": [],
   "source": [
    "p1 = c(0.15, 0.21, 0.35, 0.15, 0.14)\n",
    "p2 = c(0.14, 0.05, 0.64, 0.08, 0.09)\n",
    "x = c(15.58, 15.9, 16, 16.1, 16.2)"
   ]
  },
  {
   "cell_type": "code",
   "execution_count": 3,
   "id": "28ab576e",
   "metadata": {},
   "outputs": [],
   "source": [
    "ex1 = sum(p1*x)\n",
    "ex2 = sum(p2*x)\n",
    "var1 = sum((x - ex1)**2*p1)\n",
    "var2 = sum((x - ex2)**2*p2)"
   ]
  },
  {
   "cell_type": "code",
   "execution_count": 4,
   "id": "9c2166c5",
   "metadata": {},
   "outputs": [
    {
     "name": "stdout",
     "output_type": "stream",
     "text": [
      "With method 1 and probability p1 E(X) = 15.959 and Var(X) = 0.034 \n",
      "With method 2 and probability p2 E(X) = 15.9622 and Var(X) = 0.028"
     ]
    }
   ],
   "source": [
    "cat(paste(\"With method 1 and probability p1 E(X) =\", ex1, \"and Var(X) =\", round(var1, 3), \"\\n\"))\n",
    "cat(paste(\"With method 2 and probability p2 E(X) =\", ex2, \"and Var(X) =\", round(var2, 3)))"
   ]
  },
  {
   "cell_type": "markdown",
   "id": "65ba2ae7",
   "metadata": {},
   "source": [
    "## Exercise 2"
   ]
  },
  {
   "cell_type": "markdown",
   "id": "e7e9ef13",
   "metadata": {},
   "source": [
    "The waiting time, in minutes, at the doctor's is about 30 minutes, and the distribution follows an exponential pdf with rate 1/30. "
   ]
  },
  {
   "cell_type": "markdown",
   "id": "5a764e8d",
   "metadata": {},
   "source": [
    "#### 2.1 Simulate the waiting time for 50 people at the doctor's office and plot the relative histogram"
   ]
  },
  {
   "cell_type": "code",
   "execution_count": 5,
   "id": "818dafaf",
   "metadata": {},
   "outputs": [],
   "source": [
    "set.seed(1234)\n",
    "lambda = 1/30\n",
    "n = 50\n",
    "wait = tibble('wait' = rexp(n, lambda))"
   ]
  },
  {
   "cell_type": "code",
   "execution_count": 6,
   "id": "ee41c74e",
   "metadata": {},
   "outputs": [
    {
     "data": {
      "image/png": "[encoded data removed]",
      "text/plain": [
       "plot without title"
      ]
     },
     "metadata": {},
     "output_type": "display_data"
    }
   ],
   "source": [
    "options(repr.plot.width=6, repr.plot.height=5)\n",
    "ggplot(wait, aes(x=wait)) + geom_histogram(bins=30, colour='darkslateblue', fill='deepskyblue3', alpha=0.9) + \n",
    "ggtitle(\"Simulated waiting time for 50 people\") + ylab(\"Number of people\") + xlab(\"Waiting time\")+\n",
    "scale_x_continuous(breaks = scales::pretty_breaks(n = 10)) + scale_y_continuous(breaks = scales::pretty_breaks(n = 10)) +\n",
    "theme(plot.title = element_text(color=\"black\", size=14, face=\"bold.italic\"), \n",
    "      axis.title.x = element_text(color=\"black\", size=11),\n",
    "      axis.title.y = element_text(color=\"black\", size=11))"
   ]
  },
  {
   "cell_type": "markdown",
   "id": "d8b32807",
   "metadata": {},
   "source": [
    "#### 2.2 What is the probability that a person will wait for less than 10 minutes ?"
   ]
  },
  {
   "cell_type": "code",
   "execution_count": 7,
   "id": "75c44e6b",
   "metadata": {},
   "outputs": [
    {
     "name": "stdout",
     "output_type": "stream",
     "text": [
      "The probability that a person will wait for less than 10 minutes is 0.283"
     ]
    }
   ],
   "source": [
    "cat(paste(\"The probability that a person will wait for less than 10 minutes is\", round(pexp(10, lambda), 3)))"
   ]
  },
  {
   "cell_type": "markdown",
   "id": "3d7ef083",
   "metadata": {},
   "source": [
    "#### 2.3 Evaluate the average waiting time from the simulated data and compare it with the expected value (calculated from theory and by manipulating the probability distributions using R)"
   ]
  },
  {
   "cell_type": "code",
   "execution_count": 9,
   "id": "b86b6fc4",
   "metadata": {},
   "outputs": [],
   "source": [
    "x = 0:max(wait)\n",
    "avg_waiting = mean(wait$wait, trim=0) \n",
    "e_waiting = sum(x*dexp(x,lambda))\n",
    "e_waiting_2 = 1/lambda\n",
    "dp1 = (avg_waiting - e_waiting)*100/e_waiting\n",
    "dp2 = (avg_waiting - e_waiting_2)*100/e_waiting_2"
   ]
  },
  {
   "cell_type": "code",
   "execution_count": 10,
   "id": "9bf87966",
   "metadata": {},
   "outputs": [
    {
     "name": "stdout",
     "output_type": "stream",
     "text": [
      "Average waiting time from the simulated data: 29.6752 \n",
      "Expected value from PDF: 27.8689 (difference of 6.482 % from simulated data) \n",
      "Expected value from theory: 30 (difference of 1.083 % from simulated data)"
     ]
    }
   ],
   "source": [
    "cat(paste(\"Average waiting time from the simulated data:\", round(avg_waiting, 4), \"\\n\"))\n",
    "cat(paste(\"Expected value from PDF:\", round(e_waiting, 4), \"(difference of\", round(abs(dp1),3), \"% from simulated data)\", \"\\n\"))\n",
    "cat(paste(\"Expected value from theory:\", round(e_waiting_2, 4), \"(difference of\", round(abs(dp2),3), \"% from simulated data)\"))"
   ]
  },
  {
   "cell_type": "markdown",
   "id": "4fe9ecc1",
   "metadata": {},
   "source": [
    "#### 2.4 What is the probability for waiting more than one hour before being received ?"
   ]
  },
  {
   "cell_type": "code",
   "execution_count": 11,
   "id": "c76ef2d5",
   "metadata": {},
   "outputs": [
    {
     "name": "stdout",
     "output_type": "stream",
     "text": [
      "The probability that a person will wait more than one hour is 0.135"
     ]
    }
   ],
   "source": [
    "cat(paste(\"The probability that a person will wait more than one hour is\", round(1-pexp(60, lambda), 3)))"
   ]
  },
  {
   "cell_type": "markdown",
   "id": "b24cdb9f",
   "metadata": {},
   "source": [
    "## Exercise 3"
   ]
  },
  {
   "cell_type": "markdown",
   "id": "b97f4b2e",
   "metadata": {},
   "source": [
    "Let's suppose that on a book, on average, there is one typo error every three pages. <br>\n",
    "If the number of errors follows a Poisson distribution, plot the pdf and cdf, and calculate the probability that there is at least one error on a specific page of the book."
   ]
  },
  {
   "cell_type": "code",
   "execution_count": 12,
   "id": "e917ca04",
   "metadata": {},
   "outputs": [],
   "source": [
    "lambda2 = 1/3\n",
    "x = 0:8\n",
    "pdf_pois = dpois(x, lambda2)\n",
    "cdf_pois = ppois(x, lambda2)\n",
    "pois = tibble('x' = x, 'pdf' = pdf_pois, 'cdf' = cdf_pois)"
   ]
  },
  {
   "cell_type": "code",
   "execution_count": 13,
   "id": "43993f14",
   "metadata": {},
   "outputs": [
    {
     "data": {
      "image/png": "[encoded data removed]",
      "text/plain": [
       "plot without title"
      ]
     },
     "metadata": {},
     "output_type": "display_data"
    }
   ],
   "source": [
    "options(repr.plot.width=6, repr.plot.height=4)\n",
    "ggplot(pois, aes(x=x))+geom_line(aes(y=pdf), colour=\"darkolivegreen\", size = 1) + geom_line(aes(y=cdf), colour=\"darkorchid3\", size = 1) + \n",
    "geom_point(aes(y=pdf), colour=\"darkolivegreen\", size = 2.3) + geom_point(aes(y=cdf), colour=\"darkorchid3\", size = 2.3)+\n",
    "labs(title='Poisson PDF and CDF with lambda = 1/3', x='Number of errors', y='f(x)')+ \n",
    "scale_x_continuous(breaks = scales::pretty_breaks(n = 10)) + scale_y_continuous(breaks = scales::pretty_breaks(n = 10)) +\n",
    "theme(plot.title = element_text(color=\"black\", size=12, face=\"bold.italic\"), \n",
    "      axis.title.x = element_text(color=\"black\", size=11),\n",
    "      axis.title.y = element_text(color=\"black\", size=11), \n",
    "      axis.ticks.length=unit(.25, \"cm\"),\n",
    "      axis.text.x = element_text(size=9),\n",
    "      axis.text.y = element_text(size=9))"
   ]
  },
  {
   "cell_type": "code",
   "execution_count": 14,
   "id": "7533b1f5",
   "metadata": {},
   "outputs": [
    {
     "name": "stdout",
     "output_type": "stream",
     "text": [
      "The probability that there is at least one error on a specific page of the book is 0.28"
     ]
    }
   ],
   "source": [
    "cat(paste(\"The probability that there is at least one error on a specific page of the book is\",round(1-pdf_pois[1],2)))"
   ]
  },
  {
   "cell_type": "markdown",
   "id": "e5ce28ef",
   "metadata": {},
   "source": [
    "## Exercise 4"
   ]
  },
  {
   "cell_type": "markdown",
   "id": "05109c56",
   "metadata": {},
   "source": [
    "We randomly draw cards from a deck of 52 cards, with replacement, until one ace is drawn. <br>\n",
    "Calculate the probability that at least 10 draws are needed."
   ]
  },
  {
   "cell_type": "markdown",
   "id": "7c135592",
   "metadata": {},
   "source": [
    "If $10$ draws are needed, this means we are considering a minimum of nine failures. <br>\n",
    "In R, the geometric distribution is expressed with the number of failures needed to get the first success. <br>\n",
    "To answer the question of the exercise, one could find the cumulative probability of having eight failures (pgeom(8,p)) and then subtract it to $1$, thus obtaining the cumulative probability of having $9$ failures or more, which is exactly the case required by the exercise. <br>\n",
    "The result can be obtained also by using the negative binomial distribution by using $r = 1$, with $r$ number of successes at the $n^{th}$ trial."
   ]
  },
  {
   "cell_type": "code",
   "execution_count": 15,
   "id": "c83284c7",
   "metadata": {},
   "outputs": [],
   "source": [
    "p = 4/52\n",
    "pr10 = 1 - pgeom(8, p)"
   ]
  },
  {
   "cell_type": "code",
   "execution_count": 16,
   "id": "5fc31109",
   "metadata": {},
   "outputs": [
    {
     "name": "stdout",
     "output_type": "stream",
     "text": [
      "The probability that at least 10 draws are needed is 0.487"
     ]
    }
   ],
   "source": [
    "cat(paste(\"The probability that at least 10 draws are needed is\", round(pr10, 3)))"
   ]
  },
  {
   "cell_type": "markdown",
   "id": "60ccb4b3",
   "metadata": {},
   "source": [
    "## Exercise 5"
   ]
  },
  {
   "cell_type": "markdown",
   "id": "e92a5890",
   "metadata": {},
   "source": [
    "The time it takes a student to complete a TOLC-I University orientation and evaluation test follows a density function of the form: \n",
    "$$ f(X)=   \\left\\{\n",
    "\\begin{array}{ll}\n",
    "      c(t - 1)(2 - t) && 1 < t < 2 \\\\\n",
    "      0 && otherwise \\\\\n",
    "\\end{array} \n",
    "\\right.  \n",
    "$$\n",
    "where t is the time in hours."
   ]
  },
  {
   "cell_type": "markdown",
   "id": "42bf28f4",
   "metadata": {},
   "source": [
    "#### 5.1 Using the integrate() R function, determine the constant c (and verify it analytically)"
   ]
  },
  {
   "cell_type": "code",
   "execution_count": 17,
   "id": "0120242f",
   "metadata": {},
   "outputs": [],
   "source": [
    "not_norm_PDF = function(t) {(t-1)*(2-t)}"
   ]
  },
  {
   "cell_type": "code",
   "execution_count": 18,
   "id": "738ad3af",
   "metadata": {},
   "outputs": [
    {
     "data": {
      "text/html": [
       "6"
      ],
      "text/latex": [
       "6"
      ],
      "text/markdown": [
       "6"
      ],
      "text/plain": [
       "[1] 6"
      ]
     },
     "metadata": {},
     "output_type": "display_data"
    }
   ],
   "source": [
    "c = 1/as.numeric(integrate(not_norm_PDF, 1, 2)[1])\n",
    "c"
   ]
  },
  {
   "cell_type": "markdown",
   "id": "8ffb2559",
   "metadata": {},
   "source": [
    "<img src=\"r2.png\" width=600 height=200 />"
   ]
  },
  {
   "cell_type": "markdown",
   "id": "c07f1264",
   "metadata": {},
   "source": [
    "By solving the integral analitycally, one obtains a value of $\\frac{1}{6}$, which means $c=6$. This is in agreement with the value obtained with the function integrate, which yields a value $c=6$."
   ]
  },
  {
   "cell_type": "markdown",
   "id": "9fef6a92",
   "metadata": {},
   "source": [
    "This means that the PDF after normalization is: \n",
    "$$ f(X)=   \\left\\{\n",
    "\\begin{array}{ll}\n",
    "      6(t - 1)(2 - t) && 1 < t < 2 \\\\\n",
    "      0 && otherwise \\\\\n",
    "\\end{array} \n",
    "\\right.  \n",
    "$$\n",
    "and the CDF, obtained by integrating the PDF from 1 to t, is: \n",
    "$$ F(X)=   \\left\\{\n",
    "\\begin{array}{lll}\n",
    "      0 && t<1 \\\\\n",
    "      9t^2-2t^3-12t+5 && 1 < t < 2 \\\\\n",
    "      1 && t>2 \\\\\n",
    "\\end{array} \n",
    "\\right.  \n",
    "$$\n",
    "\n"
   ]
  },
  {
   "cell_type": "markdown",
   "id": "da5dd83e",
   "metadata": {},
   "source": [
    "#### 5.2 Write the set of four R functions and plot the pdf and cdf, respectively"
   ]
  },
  {
   "cell_type": "code",
   "execution_count": 19,
   "id": "adeb71ba",
   "metadata": {},
   "outputs": [],
   "source": [
    "dfunc = function(t) {pdf = ifelse(1<t & t<2, 6*(t-1)*(2-t), 0)\n",
    "                     return(pdf)\n",
    "                     }\n",
    "\n",
    "pfunc = function(t){cdf = ifelse(t<1, 0, ifelse(1<=t & t<=2, 9*t^2-2*t^3-12*t+5, 1))\n",
    "                    return(cdf)\n",
    "                    }\n",
    "\n",
    "\n",
    " \n",
    "rfunc = function(n){\n",
    "    t_list = c()\n",
    "    u = runif(n)\n",
    "    for (i in 1:n){\n",
    "        roots = Re(cubic(c(-2,9,-12,5-u[i])))\n",
    "        t_list[i] = roots[1<roots & roots<2]}\n",
    "    return (t_list)}\n",
    "\n",
    "qfunc = function(q){\n",
    "    q_list = c()\n",
    "    for (i in 1:length(q)){\n",
    "        roots = Re(cubic(c(-2,9,-12,5-q[i])))\n",
    "        q_list[i] = roots[1<roots & roots<2]}\n",
    "    return (q_list)}"
   ]
  },
  {
   "cell_type": "code",
   "execution_count": 20,
   "id": "fa1d0e57",
   "metadata": {},
   "outputs": [
    {
     "data": {
      "image/png": "[encoded data removed]",
      "text/plain": [
       "plot without title"
      ]
     },
     "metadata": {},
     "output_type": "display_data"
    }
   ],
   "source": [
    "options(repr.plot.width=6, repr.plot.height=4)\n",
    "\n",
    "xp = seq(1,2,length.out=20)\n",
    "xc <- seq(0.7,2.3,length.out=20)\n",
    "pdf <- dfunc(xp)/sum(dfunc(xp))*13\n",
    "cdf <- pfunc(xc)\n",
    "\n",
    "plots = tibble('xp' = xp, 'yp' = pdf, 'xc' = xc, 'yc' = cdf)\n",
    "\n",
    "ggplot(plots) + geom_point(aes(xc, yc), colour = 'maroon') + geom_line(aes(xc, yc), colour = 'maroon')+ \n",
    "geom_point(aes(xp, yp),colour = 'aquamarine3') + geom_line(aes(xp, yp), colour = 'aquamarine3')+\n",
    "scale_y_continuous(name = \"CDF\",sec.axis = sec_axis( trans=~./13, name=\"PDF\"), breaks = scales::pretty_breaks(n = 8))+\n",
    "labs(title='PDF () and CDF ()', x='x')+ \n",
    "scale_x_continuous(breaks = scales::pretty_breaks(n = 10))+\n",
    "theme(plot.title = element_text(color=\"black\", size=12, face=\"bold.italic\"), \n",
    "      axis.title.x = element_text(color=\"black\", size=11),\n",
    "      axis.title.y = element_text(color=\"black\", size=11), \n",
    "      axis.ticks.length=unit(.25, \"cm\"),\n",
    "      axis.text.x = element_text(size=9),\n",
    "      axis.text.y = element_text(size=9))"
   ]
  },
  {
   "cell_type": "markdown",
   "id": "329195bf",
   "metadata": {},
   "source": [
    "### 5.3 Evaluate the probability that the student will finish the aptitude test in more than 75 minutes. And that it will take between 90 and 120 minutes."
   ]
  },
  {
   "cell_type": "code",
   "execution_count": 21,
   "id": "ec33e7ed",
   "metadata": {},
   "outputs": [
    {
     "name": "stdout",
     "output_type": "stream",
     "text": [
      "The probability that the student will finish the aptitude test in more than 75 minutes is 0.844"
     ]
    }
   ],
   "source": [
    "cat(paste(\"The probability that the student will finish the aptitude test in more than 75 minutes is\", round(1-pfunc(75/60),3)))"
   ]
  },
  {
   "cell_type": "code",
   "execution_count": 22,
   "id": "704c23ac",
   "metadata": {
    "scrolled": true
   },
   "outputs": [
    {
     "name": "stdout",
     "output_type": "stream",
     "text": [
      "The probability that the student will take the aptitude test in between 90 to 120 minutes is 0.5"
     ]
    }
   ],
   "source": [
    "cat(paste(\"The probability that the student will take the aptitude test in between 90 to 120 minutes is\", pfunc(2)-pfunc(90/60)))"
   ]
  },
  {
   "cell_type": "markdown",
   "id": "ee138ca1",
   "metadata": {},
   "source": [
    "## Exercise 6"
   ]
  },
  {
   "cell_type": "markdown",
   "id": "76939eab",
   "metadata": {},
   "source": [
    "The lifetime of tires sold by an used tires shop is $10^4 \\cdot x\\ km$, where $x$ is a random variable following the distribution funcion: \n",
    "$$ f(X)=   \\left\\{\n",
    "\\begin{array}{ll}\n",
    "      \\frac{2}{x^2} && 1 < x < 2 \\\\\n",
    "      0 && otherwise \\\\\n",
    "\\end{array} \n",
    "\\right.  \n",
    "$$\n",
    "\n",
    "\n",
    "This PDF is already normalized, the corresponding CDF is:\n",
    "\n",
    "$$\n",
    "F(x)=  \\left\\{\n",
    "\\begin{array}{lll}\n",
    "        0 && x < 1 \\\\\n",
    "        -\\frac{2}{x} + 2 && 1 < x < 2  \\\\\n",
    "        1 && otherwise \\\\\n",
    "\\end{array} \n",
    "\\right. \n",
    "$$"
   ]
  },
  {
   "cell_type": "markdown",
   "id": "609f560d",
   "metadata": {},
   "source": [
    "### 6.1 Write the set of four R functions and plot the pdf and cdf, respectively"
   ]
  },
  {
   "cell_type": "code",
   "execution_count": 23,
   "id": "6ce0e27e",
   "metadata": {},
   "outputs": [],
   "source": [
    "dtir = function(x) {pdf = ifelse(1<x & x<2, 2/x**2, 0)\n",
    "                     return(pdf)\n",
    "                     }\n",
    "\n",
    "ptir = function(x){cdf = ifelse(x<1, 0, ifelse(1<=x & x<=2, -(2/x)+2, 1))\n",
    "                    return(cdf)\n",
    "                    }\n",
    "\n",
    "rtir = function(n){\n",
    "                    x = 2/(2-runif(n))\n",
    "                    return (x)\n",
    "                    }\n",
    "\n",
    "qtir = function(q){\n",
    "                    x = 2/(2-runif(n))\n",
    "                    return (x)\n",
    "                    }"
   ]
  },
  {
   "cell_type": "code",
   "execution_count": 24,
   "id": "34060bb9",
   "metadata": {},
   "outputs": [
    {
     "data": {
      "image/png": "[encoded data removed]",
      "text/plain": [
       "plot without title"
      ]
     },
     "metadata": {},
     "output_type": "display_data"
    }
   ],
   "source": [
    "options(repr.plot.width=6, repr.plot.height=4)\n",
    "\n",
    "xp2 = seq(1,2,length.out=20)\n",
    "xc2 <- seq(0.7,2.3,length.out=20)\n",
    "pdf2 <- dtir(xp2)/sum(dtir(xp2))*10\n",
    "cdf2 <- ptir(xc2)\n",
    "\n",
    "plots2 = tibble('xp' = xp2, 'yp' = pdf2, 'xc' = xc2, 'yc' = cdf2)\n",
    "\n",
    "ggplot(plots2) + geom_point(aes(xc, yc), colour = 'maroon') + geom_line(aes(xc, yc), colour = 'maroon')+ \n",
    "geom_point(aes(xp, yp),colour = 'aquamarine3') + geom_line(aes(xp, yp), colour = 'aquamarine3')+\n",
    "scale_y_continuous(name = \"CDF\",sec.axis = sec_axis( trans=~./10, name=\"PDF\"), breaks = scales::pretty_breaks(n = 8))+\n",
    "labs(title='PDF () and CDF ()', x='x')+ \n",
    "scale_x_continuous(breaks = scales::pretty_breaks(n = 10))+\n",
    "theme(plot.title = element_text(color=\"black\", size=12, face=\"bold.italic\"), \n",
    "      axis.title.x = element_text(color=\"black\", size=11),\n",
    "      axis.title.y = element_text(color=\"black\", size=11), \n",
    "      axis.ticks.length=unit(.25, \"cm\"),\n",
    "      axis.text.x = element_text(size=9),\n",
    "      axis.text.y = element_text(size=9))"
   ]
  },
  {
   "cell_type": "markdown",
   "id": "a6d0257b",
   "metadata": {},
   "source": [
    "### 6.2 Determine the probability that tires will last less than 15000 km"
   ]
  },
  {
   "cell_type": "code",
   "execution_count": 25,
   "id": "0a7c415c",
   "metadata": {},
   "outputs": [
    {
     "name": "stdout",
     "output_type": "stream",
     "text": [
      "The probability that the tires will last less than 15000 km is 0.667"
     ]
    }
   ],
   "source": [
    "cat('The probability that the tires will last less than 15000 km is', round(ptir(15000/(10^4)),3))"
   ]
  },
  {
   "cell_type": "markdown",
   "id": "b8dc4071",
   "metadata": {},
   "source": [
    "### 6.3 Sample 3000 random variables from the distribution and determine the mean value and the variance, using the expression Var(X) = E[X^2] - E[X]^2"
   ]
  },
  {
   "cell_type": "code",
   "execution_count": 26,
   "id": "3b75b5f0",
   "metadata": {},
   "outputs": [],
   "source": [
    "rv = rtir(3000)\n",
    "\n",
    "ex = sum(dtir(rv)*rv)/sum(dtir(rv))\n",
    "ex2 = sum((rv^2)*dtir(rv))/sum(dtir(rv))\n",
    "varx = ex2 - ex^2"
   ]
  },
  {
   "cell_type": "code",
   "execution_count": 29,
   "id": "5122d9c9",
   "metadata": {},
   "outputs": [
    {
     "data": {
      "text/html": [
       "'For 3000 random variables sampled from the distribution: E[x] = 1.289 and Var(x) = 0.061'"
      ],
      "text/latex": [
       "'For 3000 random variables sampled from the distribution: E{[}x{]} = 1.289 and Var(x) = 0.061'"
      ],
      "text/markdown": [
       "'For 3000 random variables sampled from the distribution: E[x] = 1.289 and Var(x) = 0.061'"
      ],
      "text/plain": [
       "[1] \"For 3000 random variables sampled from the distribution: E[x] = 1.289 and Var(x) = 0.061\""
      ]
     },
     "metadata": {},
     "output_type": "display_data"
    }
   ],
   "source": [
    "paste('For 3000 random variables sampled from the distribution: E[x] =', round(ex,3), 'and Var(x) =', round(varx,3))"
   ]
  }
 ],
 "metadata": {
  "kernelspec": {
   "display_name": "R",
   "language": "R",
   "name": "ir"
  },
  "language_info": {
   "codemirror_mode": "r",
   "file_extension": ".r",
   "mimetype": "text/x-r-source",
   "name": "R",
   "pygments_lexer": "r",
   "version": "3.6.1"
  }
 },
 "nbformat": 4,
 "nbformat_minor": 5
}
