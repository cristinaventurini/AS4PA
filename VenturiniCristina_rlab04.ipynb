{
 "cells": [
  {
   "cell_type": "markdown",
   "id": "692f0f19",
   "metadata": {},
   "source": [
    "# Cristina Venturini 2022461\n",
    "\n",
    "## Assignement 4"
   ]
  },
  {
   "cell_type": "code",
   "execution_count": 1,
   "id": "c48bcc39",
   "metadata": {},
   "outputs": [
    {
     "name": "stderr",
     "output_type": "stream",
     "text": [
      "Warning message:\n",
      "\"package 'tibble' was built under R version 3.6.3\"Warning message:\n",
      "\"package 'ggplot2' was built under R version 3.6.3\"Warning message:\n",
      "\"package 'latex2exp' was built under R version 3.6.3\"Warning message:\n",
      "\"package 'viridis' was built under R version 3.6.3\"Loading required package: viridisLite\n",
      "Warning message:\n",
      "\"package 'viridisLite' was built under R version 3.6.3\"Warning message:\n",
      "\"package 'patchwork' was built under R version 3.6.3\""
     ]
    }
   ],
   "source": [
    "library(tibble)\n",
    "library(ggplot2)\n",
    "library(latex2exp)\n",
    "library(glue)\n",
    "theme_set(theme_bw())\n",
    "library(viridis)\n",
    "library(patchwork)"
   ]
  },
  {
   "cell_type": "markdown",
   "id": "3ded6ee5",
   "metadata": {},
   "source": [
    "## Exercise 1 - Six Boxes Toy Model : inference"
   ]
  },
  {
   "cell_type": "markdown",
   "id": "455a0b4a",
   "metadata": {},
   "source": [
    "Labeling the boxes as follows:"
   ]
  },
  {
   "attachments": {
    "image.png": {
     "image/png": "[encoded data removed]"
    }
   },
   "cell_type": "markdown",
   "id": "addc1cac",
   "metadata": {},
   "source": [
    "![image.png](attachment:image.png)"
   ]
  },
  {
   "cell_type": "markdown",
   "id": "6e16590e",
   "metadata": {},
   "source": [
    "write a program in R that:\n",
    "- allows the user to insert the color of a randomly extracted box and\n",
    "- prints on the standard output the probability of selecting each box\n",
    "- plots the probability for each box as a function of the extraction step"
   ]
  },
  {
   "cell_type": "code",
   "execution_count": 2,
   "id": "e20eb449",
   "metadata": {},
   "outputs": [],
   "source": [
    "N=5; i=0:N; pii_w=i/N; pii_b=(N-i)/N"
   ]
  },
  {
   "cell_type": "markdown",
   "id": "b9af67e1",
   "metadata": {},
   "source": [
    "Here I randomly chose the colors of the balls and then I inserted the corresponding numbers in the prompt. I then saved the vector with the extractions, calculated the probabilities and made a plot. "
   ]
  },
  {
   "cell_type": "code",
   "execution_count": 3,
   "id": "bb52741e",
   "metadata": {},
   "outputs": [
    {
     "name": "stdout",
     "output_type": "stream",
     "text": [
      "[White: 1, Black: 0, Quit: q]   1\n",
      "[White: 1, Black: 0, Quit: q]   1\n",
      "[White: 1, Black: 0, Quit: q]   1\n",
      "[White: 1, Black: 0, Quit: q]   1\n",
      "[White: 1, Black: 0, Quit: q]   1\n",
      "[White: 1, Black: 0, Quit: q]   0\n",
      "[White: 1, Black: 0, Quit: q]   0\n",
      "[White: 1, Black: 0, Quit: q]   0\n",
      "[White: 1, Black: 0, Quit: q]   1\n",
      "[White: 1, Black: 0, Quit: q]   1\n",
      "[White: 1, Black: 0, Quit: q]   0\n",
      "[White: 1, Black: 0, Quit: q]   0\n",
      "[White: 1, Black: 0, Quit: q]   0\n",
      "[White: 1, Black: 0, Quit: q]   0\n",
      "[White: 1, Black: 0, Quit: q]   1\n",
      "[White: 1, Black: 0, Quit: q]   1\n",
      "[White: 1, Black: 0, Quit: q]   1\n",
      "[White: 1, Black: 0, Quit: q]   0\n",
      "[White: 1, Black: 0, Quit: q]   0\n",
      "[White: 1, Black: 0, Quit: q]   1\n",
      "[White: 1, Black: 0, Quit: q]   1\n",
      "[White: 1, Black: 0, Quit: q]   0\n",
      "[White: 1, Black: 0, Quit: q]   1\n",
      "[White: 1, Black: 0, Quit: q]   0\n",
      "[White: 1, Black: 0, Quit: q]   1\n",
      "[White: 1, Black: 0, Quit: q]   1\n",
      "[White: 1, Black: 0, Quit: q]   1\n",
      "[White: 1, Black: 0, Quit: q]   1\n",
      "[White: 1, Black: 0, Quit: q]   1\n",
      "[White: 1, Black: 0, Quit: q]   1\n",
      "[White: 1, Black: 0, Quit: q]   1\n",
      "[White: 1, Black: 0, Quit: q]   1\n",
      "[White: 1, Black: 0, Quit: q]   1\n",
      "[White: 1, Black: 0, Quit: q]   1\n",
      "[White: 1, Black: 0, Quit: q]   0\n",
      "[White: 1, Black: 0, Quit: q]   0\n",
      "[White: 1, Black: 0, Quit: q]   0\n",
      "[White: 1, Black: 0, Quit: q]   0\n",
      "[White: 1, Black: 0, Quit: q]   q\n"
     ]
    }
   ],
   "source": [
    "s = vector(); PBi = vector()\n",
    "ext = readline(prompt='[White: 1, Black: 0, Quit: q]   ')\n",
    "n = 0\n",
    "while (ext!='q'){\n",
    "    n = n + 1\n",
    "    s = append(s, as.numeric(ext))\n",
    "    x = sum(s)\n",
    "    PBi = append(PBi, pii_w^x * (1-pii_w)^(n-x) / sum( pii_w^x * (1-pii_w)^(n-x) )) # calculate probabilities\n",
    "    ext = readline(prompt='[White: 1, Black: 0, Quit: q]   ')\n",
    "}"
   ]
  },
  {
   "cell_type": "code",
   "execution_count": 4,
   "id": "6b77d6c9",
   "metadata": {},
   "outputs": [
    {
     "name": "stdout",
     "output_type": "stream",
     "text": [
      "P(Hi) for the first 10 extractions:"
     ]
    },
    {
     "data": {
      "text/html": [
       "<table>\n",
       "<tbody>\n",
       "\t<tr><td>0           </td><td>0.0666666667</td><td>0.133333333 </td><td>0.20000000  </td><td>0.2666667   </td><td>0.3333333   </td></tr>\n",
       "\t<tr><td>0           </td><td>0.0181818182</td><td>0.072727273 </td><td>0.16363636  </td><td>0.2909091   </td><td>0.4545455   </td></tr>\n",
       "\t<tr><td>0           </td><td>0.0044444444</td><td>0.035555556 </td><td>0.12000000  </td><td>0.2844444   </td><td>0.5555556   </td></tr>\n",
       "\t<tr><td>0           </td><td>0.0010214505</td><td>0.016343207 </td><td>0.08273749  </td><td>0.2614913   </td><td>0.6384065   </td></tr>\n",
       "\t<tr><td>0           </td><td>0.0002259887</td><td>0.007231638 </td><td>0.05491525  </td><td>0.2314124   </td><td>0.7062147   </td></tr>\n",
       "\t<tr><td>0           </td><td>0.0024844720</td><td>0.059627329 </td><td>0.30186335  </td><td>0.6360248   </td><td>0.0000000   </td></tr>\n",
       "\t<tr><td>0           </td><td>0.0069565217</td><td>0.125217391 </td><td>0.42260870  </td><td>0.4452174   </td><td>0.0000000   </td></tr>\n",
       "\t<tr><td>0           </td><td>0.0164271047</td><td>0.221765914 </td><td>0.49897331  </td><td>0.2628337   </td><td>0.0000000   </td></tr>\n",
       "\t<tr><td>0           </td><td>0.0054607509</td><td>0.147440273 </td><td>0.49761092  </td><td>0.3494881   </td><td>0.0000000   </td></tr>\n",
       "\t<tr><td>0           </td><td>0.0017112299</td><td>0.092406417 </td><td>0.46780749  </td><td>0.4380749   </td><td>0.0000000   </td></tr>\n",
       "</tbody>\n",
       "</table>\n"
      ],
      "text/latex": [
       "\\begin{tabular}{llllll}\n",
       "\t 0            & 0.0666666667 & 0.133333333  & 0.20000000   & 0.2666667    & 0.3333333   \\\\\n",
       "\t 0            & 0.0181818182 & 0.072727273  & 0.16363636   & 0.2909091    & 0.4545455   \\\\\n",
       "\t 0            & 0.0044444444 & 0.035555556  & 0.12000000   & 0.2844444    & 0.5555556   \\\\\n",
       "\t 0            & 0.0010214505 & 0.016343207  & 0.08273749   & 0.2614913    & 0.6384065   \\\\\n",
       "\t 0            & 0.0002259887 & 0.007231638  & 0.05491525   & 0.2314124    & 0.7062147   \\\\\n",
       "\t 0            & 0.0024844720 & 0.059627329  & 0.30186335   & 0.6360248    & 0.0000000   \\\\\n",
       "\t 0            & 0.0069565217 & 0.125217391  & 0.42260870   & 0.4452174    & 0.0000000   \\\\\n",
       "\t 0            & 0.0164271047 & 0.221765914  & 0.49897331   & 0.2628337    & 0.0000000   \\\\\n",
       "\t 0            & 0.0054607509 & 0.147440273  & 0.49761092   & 0.3494881    & 0.0000000   \\\\\n",
       "\t 0            & 0.0017112299 & 0.092406417  & 0.46780749   & 0.4380749    & 0.0000000   \\\\\n",
       "\\end{tabular}\n"
      ],
      "text/markdown": [
       "\n",
       "| 0            | 0.0666666667 | 0.133333333  | 0.20000000   | 0.2666667    | 0.3333333    |\n",
       "| 0            | 0.0181818182 | 0.072727273  | 0.16363636   | 0.2909091    | 0.4545455    |\n",
       "| 0            | 0.0044444444 | 0.035555556  | 0.12000000   | 0.2844444    | 0.5555556    |\n",
       "| 0            | 0.0010214505 | 0.016343207  | 0.08273749   | 0.2614913    | 0.6384065    |\n",
       "| 0            | 0.0002259887 | 0.007231638  | 0.05491525   | 0.2314124    | 0.7062147    |\n",
       "| 0            | 0.0024844720 | 0.059627329  | 0.30186335   | 0.6360248    | 0.0000000    |\n",
       "| 0            | 0.0069565217 | 0.125217391  | 0.42260870   | 0.4452174    | 0.0000000    |\n",
       "| 0            | 0.0164271047 | 0.221765914  | 0.49897331   | 0.2628337    | 0.0000000    |\n",
       "| 0            | 0.0054607509 | 0.147440273  | 0.49761092   | 0.3494881    | 0.0000000    |\n",
       "| 0            | 0.0017112299 | 0.092406417  | 0.46780749   | 0.4380749    | 0.0000000    |\n",
       "\n"
      ],
      "text/plain": [
       "      [,1] [,2]         [,3]        [,4]       [,5]      [,6]     \n",
       " [1,] 0    0.0666666667 0.133333333 0.20000000 0.2666667 0.3333333\n",
       " [2,] 0    0.0181818182 0.072727273 0.16363636 0.2909091 0.4545455\n",
       " [3,] 0    0.0044444444 0.035555556 0.12000000 0.2844444 0.5555556\n",
       " [4,] 0    0.0010214505 0.016343207 0.08273749 0.2614913 0.6384065\n",
       " [5,] 0    0.0002259887 0.007231638 0.05491525 0.2314124 0.7062147\n",
       " [6,] 0    0.0024844720 0.059627329 0.30186335 0.6360248 0.0000000\n",
       " [7,] 0    0.0069565217 0.125217391 0.42260870 0.4452174 0.0000000\n",
       " [8,] 0    0.0164271047 0.221765914 0.49897331 0.2628337 0.0000000\n",
       " [9,] 0    0.0054607509 0.147440273 0.49761092 0.3494881 0.0000000\n",
       "[10,] 0    0.0017112299 0.092406417 0.46780749 0.4380749 0.0000000"
      ]
     },
     "metadata": {},
     "output_type": "display_data"
    }
   ],
   "source": [
    "PBi = matrix(PBi, nrow = n, ncol = 6, byrow = TRUE)\n",
    "PBi_tot = c(PBi[,1], PBi[,2], PBi[,3], PBi[,4], PBi[,5], PBi[,6])\n",
    "factor = rep(c('H0', 'H1', 'H2', 'H3', 'H4', 'H5'), each=n)\n",
    "trials = rep(1:n, times = 6)\n",
    "cat('P(Hi) for the first 10 extractions:')\n",
    "head(PBi, 10)"
   ]
  },
  {
   "cell_type": "code",
   "execution_count": 5,
   "id": "aa9ada02",
   "metadata": {},
   "outputs": [],
   "source": [
    "PBi_plot = tibble('trials' = trials, 'PBi' = PBi_tot, 'box' = factor)\n",
    "PBi_plot$box = as.factor(PBi_plot$box)"
   ]
  },
  {
   "cell_type": "code",
   "execution_count": 6,
   "id": "b1bb2da4",
   "metadata": {},
   "outputs": [
    {
     "data": {
      "image/png": "[encoded data removed]",
      "text/plain": [
       "plot without title"
      ]
     },
     "metadata": {},
     "output_type": "display_data"
    }
   ],
   "source": [
    "options(repr.plot.width=7, repr.plot.height=4)\n",
    "ggplot(PBi_plot) + \n",
    "    geom_point(aes(trials, PBi, group= box, colour=box)) +\n",
    "    geom_line(aes(trials, PBi, group = box, colour=box)) +\n",
    "    labs(title=TeX('Probability for each box $H_i$ as a function of the extraction'), \n",
    "         x=TeX('$n^{th}$ Extraction'), y=TeX('$P(H_i | I_n)$'), col='Box') +\n",
    "    scale_color_viridis(discrete=TRUE)+\n",
    "    theme(plot.title = element_text(color=\"black\", size=13\n",
    "                                    , face=\"bold.italic\"), \n",
    "              axis.title.x = element_text(color=\"black\", size=12),\n",
    "              axis.title.y = element_text(color=\"black\", size=12), \n",
    "              axis.ticks.length=unit(.25, \"cm\"),\n",
    "              axis.text.x = element_text(size=9),\n",
    "              axis.text.y = element_text(size=9))"
   ]
  },
  {
   "cell_type": "markdown",
   "id": "289731df",
   "metadata": {},
   "source": [
    "## Exercise 2 - Six Boxes Toy Model : simulation"
   ]
  },
  {
   "cell_type": "markdown",
   "id": "de2dc1df",
   "metadata": {},
   "source": [
    "Consider again the six boxes toy model of the previous exercise and write a simulation program that:\n",
    "- selects a random box\n",
    "- makes random sampling from the box\n",
    "- prints on the standard output the probability of selecting each box\n",
    "- plots the probability for each box as a function of the number of trial"
   ]
  },
  {
   "cell_type": "markdown",
   "id": "4277ae1e",
   "metadata": {},
   "source": [
    "After having read the referenced papers, I saw that in them the formulas for the computation of the probability are slightly different from the computations we made in class, but giving in any case the same results. <br>\n",
    "I present here both approaches."
   ]
  },
  {
   "cell_type": "markdown",
   "id": "a8acaddf",
   "metadata": {},
   "source": [
    "#### Method 1"
   ]
  },
  {
   "cell_type": "code",
   "execution_count": 7,
   "id": "51336876",
   "metadata": {},
   "outputs": [],
   "source": [
    "set.seed(20160715)"
   ]
  },
  {
   "cell_type": "code",
   "execution_count": 8,
   "id": "c7f9a1af",
   "metadata": {},
   "outputs": [],
   "source": [
    "N=5; i=0:N; pii_w=i/N; pii_b=(N-i)/N; n=100"
   ]
  },
  {
   "cell_type": "code",
   "execution_count": 9,
   "id": "13868ece",
   "metadata": {
    "scrolled": true
   },
   "outputs": [],
   "source": [
    "ri = sample(i, 1)"
   ]
  },
  {
   "cell_type": "code",
   "execution_count": 10,
   "id": "210fc8a2",
   "metadata": {},
   "outputs": [],
   "source": [
    "s=rbinom(n,1,pii_w[ri+1])"
   ]
  },
  {
   "cell_type": "code",
   "execution_count": 11,
   "id": "6a4f5764",
   "metadata": {},
   "outputs": [],
   "source": [
    "PBi_g = matrix(1/6, nrow = 100, ncol = 6)"
   ]
  },
  {
   "cell_type": "code",
   "execution_count": 12,
   "id": "4a0d7108",
   "metadata": {},
   "outputs": [],
   "source": [
    "for(i in 1:100){\n",
    "    if(i == 1){\n",
    "        if(s[1]==1){\n",
    "            PBi_g[1,] = (pii_w * PBi_g[1,])/sum(pii_w*PBi_g[1,])\n",
    "        }\n",
    "        if(s[1]==0){\n",
    "            PBi_g[1,] = (pii_b * PBi_g[1,])/sum(pii_b*PBi_g[1,])\n",
    "        }\n",
    "    }\n",
    "    else{\n",
    "        if(s[i]==1){\n",
    "            PBi_g[i,] = (pii_w * PBi_g[i-1,])/sum(pii_w*PBi_g[i-1,])\n",
    "        }\n",
    "        else {\n",
    "            PBi_g[i,] = (pii_b * PBi_g[i-1,])/sum(pii_b*PBi_g[i-1,])\n",
    "        }\n",
    "    }  \n",
    "}"
   ]
  },
  {
   "cell_type": "code",
   "execution_count": 13,
   "id": "c8c1f691",
   "metadata": {},
   "outputs": [],
   "source": [
    "PBi_g_tot = c(PBi_g[,1], PBi_g[,2], PBi_g[,3], PBi_g[,4], PBi_g[,5], PBi_g[,6])\n",
    "factor = rep(c('H0', 'H1', 'H2', 'H3', 'H4', 'H5'), each=100)\n",
    "trials = rep(1:100, times = 6)"
   ]
  },
  {
   "cell_type": "code",
   "execution_count": 14,
   "id": "5bdb26d2",
   "metadata": {},
   "outputs": [],
   "source": [
    "PBi_g_plot = tibble('trials' = trials, 'PBi_g' = PBi_g_tot, 'box' = factor)\n",
    "PBi_g_plot$box = as.factor(PBi_g_plot$box)"
   ]
  },
  {
   "cell_type": "code",
   "execution_count": 15,
   "id": "811b68ac",
   "metadata": {},
   "outputs": [
    {
     "data": {
      "image/png": "[encoded data removed]",
      "text/plain": [
       "plot without title"
      ]
     },
     "metadata": {},
     "output_type": "display_data"
    }
   ],
   "source": [
    "options(repr.plot.width=8, repr.plot.height=5)\n",
    "ggplot(PBi_g_plot) + \n",
    "    geom_point(aes(trials, PBi_g, group= box, colour=box)) +\n",
    "    geom_line(aes(trials, PBi_g, group = box, colour=box)) +\n",
    "    labs(title=TeX('Probability for each box $H_i$ as a function of the extraction'), \n",
    "         x=TeX('$n^{th}$ Extraction'), y=TeX('$P(H_i | I_n)$'), col='Box') +\n",
    "    scale_color_viridis(discrete=TRUE)+\n",
    "    theme(plot.title = element_text(color=\"black\", size=14\n",
    "                                    , face=\"bold.italic\"), \n",
    "              axis.title.x = element_text(color=\"black\", size=15),\n",
    "              axis.title.y = element_text(color=\"black\", size=15), \n",
    "              axis.ticks.length=unit(.25, \"cm\"),\n",
    "              axis.text.x = element_text(size=9),\n",
    "              axis.text.y = element_text(size=9))"
   ]
  },
  {
   "cell_type": "code",
   "execution_count": 16,
   "id": "1de8472a",
   "metadata": {},
   "outputs": [
    {
     "data": {
      "image/png": "[encoded data removed]",
      "text/plain": [
       "plot without title"
      ]
     },
     "metadata": {},
     "output_type": "display_data"
    }
   ],
   "source": [
    "options(repr.plot.width=10, repr.plot.height=8)\n",
    "plot = ggplot(PBi_g_plot) + geom_point(aes(trials, PBi_g), colour = 'darkgreen', size = 0.8) + \n",
    "        geom_line(aes(trials, PBi_g), colour = 'darkgreen', size=0.4)+\n",
    "        #scale_color_manual(values = c('line' = 'darkblue')) +\n",
    "        labs(title=TeX('Probability for each box $H_i$ as a function of the extraction'), \n",
    "             x=TeX('$n^{th}$ Extraction'), y=TeX('$P(H_i | I_n)$'))+ \n",
    "        scale_x_continuous(breaks = scales::pretty_breaks(n = 10))+\n",
    "        scale_y_continuous(breaks = scales::pretty_breaks(n = 10))+\n",
    "        theme(plot.title = element_text(color=\"black\", size=16, face=\"bold.italic\"), \n",
    "              axis.title.x = element_text(color=\"black\", size=15),\n",
    "              axis.title.y = element_text(color=\"black\", size=15), \n",
    "              axis.ticks.length=unit(.25, \"cm\"),\n",
    "              axis.text.x = element_text(size=9),\n",
    "              axis.text.y = element_text(size=9))\n",
    "plot + facet_wrap(. ~ box, scales='free', ncol=2)+ theme(strip.text.x = element_text(size=12),\n",
    "                        strip.background = element_rect(colour=\"black\", fill=\"white\", size=0.5, linetype=\"solid\"))"
   ]
  },
  {
   "cell_type": "markdown",
   "id": "58d5243e",
   "metadata": {},
   "source": [
    "Although `ggplot2` gives the opportunity to represent data in a more visually pleasing and more customizable way, it is not able to deal with small numbers <br> ($\\sim 10^{-30}/10^{-40}$) and therefore in the plots above the smallest probabiities have actually been approximated to zero. It was impossible to use a logarithmic scale: when trying to do so, an error appeared, since the function was basically trying to calculate $\\log_{10}(0) \\rightarrow \\infty$. <br>\n",
    "This to remark the fact that the probabilites do not reach exactly zero (apart from the case of the first or last box when a ball of the color not present in the box is extracted), even after a long number of iterations (here $100$)."
   ]
  },
  {
   "cell_type": "markdown",
   "id": "cf70c566",
   "metadata": {},
   "source": [
    "#### Method 2"
   ]
  },
  {
   "cell_type": "code",
   "execution_count": 20,
   "id": "816fe9b6",
   "metadata": {
    "scrolled": true
   },
   "outputs": [
    {
     "data": {
      "text/html": [
       "0.799943457251652"
      ],
      "text/latex": [
       "0.799943457251652"
      ],
      "text/markdown": [
       "0.799943457251652"
      ],
      "text/plain": [
       "[1] 0.7999435"
      ]
     },
     "metadata": {},
     "output_type": "display_data"
    }
   ],
   "source": [
    "x=sum(s) # nr of White\n",
    "PBi = pii_w^x * (1-pii_w)^(n-x) / sum( pii_w^x * (1-pii_w)^(n-x) ) # belief to have picked Bi at the last extraction \n",
    "                                                                   # (after having extracted (x) white balls and \n",
    "                                                                   # (n-x) black balls)\n",
    "sum(pii_w * PBi) # belief to get White in a further extraction."
   ]
  },
  {
   "cell_type": "code",
   "execution_count": 21,
   "id": "64f362d8",
   "metadata": {},
   "outputs": [],
   "source": [
    "css = cumsum(s)\n",
    "PBi_nt = matrix(, nrow = 100, ncol = 6)\n",
    "for (i in 1:100){\n",
    "    PBi_nt[i,] = pii_w^css[i] * (1-pii_w)^(i-css[i]) / sum( pii_w^css[i] * (1-pii_w)^(i-css[i]) )\n",
    "}"
   ]
  },
  {
   "cell_type": "code",
   "execution_count": 22,
   "id": "2f4cb72d",
   "metadata": {},
   "outputs": [],
   "source": [
    "PBi_nt_tot = array(PBi_nt) #c(PBi_nt[,1], PBi_nt[,2], PBi_nt[,3], PBi_nt[,4], PBi_nt[,5], PBi_nt[,6])\n",
    "factor = rep(0:5, each=100)\n",
    "trials = rep(1:100, times = 6)"
   ]
  },
  {
   "cell_type": "code",
   "execution_count": 23,
   "id": "2730fe2d",
   "metadata": {
    "scrolled": true
   },
   "outputs": [],
   "source": [
    "PBi_nt_plot = tibble('trials' = trials, 'PBi_nt' = PBi_nt_tot, 'box' = factor)\n",
    "PBi_nt_plot$box = as.factor(PBi_nt_plot$box)"
   ]
  },
  {
   "cell_type": "code",
   "execution_count": 24,
   "id": "071a175d",
   "metadata": {},
   "outputs": [
    {
     "data": {
      "image/png": "[encoded data removed]",
      "text/plain": [
       "plot without title"
      ]
     },
     "metadata": {},
     "output_type": "display_data"
    }
   ],
   "source": [
    "options(repr.plot.width=8, repr.plot.height=5)\n",
    "ggplot(PBi_nt_plot) + \n",
    "    geom_point(aes(trials, PBi_nt, group= box, colour=box)) +\n",
    "    geom_line(aes(trials, PBi_nt, group = box, colour=box)) +\n",
    "    labs(title=TeX('Probability for each box $H_i$ as a function of the extraction'), \n",
    "         x=TeX('$n^{th}$ Extraction'), y=TeX('$P(H_i | I_n)$'), col='Box') +\n",
    "    scale_color_viridis(discrete=TRUE)+\n",
    "    theme(plot.title = element_text(color=\"black\", size=14\n",
    "                                    , face=\"bold.italic\"), \n",
    "              axis.title.x = element_text(color=\"black\", size=15),\n",
    "              axis.title.y = element_text(color=\"black\", size=15), \n",
    "              axis.ticks.length=unit(.25, \"cm\"),\n",
    "              axis.text.x = element_text(size=9),\n",
    "              axis.text.y = element_text(size=9))"
   ]
  },
  {
   "cell_type": "markdown",
   "id": "7bab42a7",
   "metadata": {},
   "source": [
    "## Exercise 3"
   ]
  },
  {
   "cell_type": "markdown",
   "id": "e80eca0f",
   "metadata": {},
   "source": [
    "An important property of the gamma distribution is the so-called _reproductive property_: given a sequence of independent random variable $X_j ∼ Gamma(\\alpha_j, \\beta)$, it follows that\n",
    "$$\\mathcal{Y}=\\sum^n_{j=1} X_j \\rightarrow \\mathcal{Y} \\sim Gamma(\\alpha, \\beta) \\text{ where } \\alpha = \\sum^n_{j=1} \\alpha_j$$\n",
    "If $\\alpha = m$ is an integer, a random variable from gamma distribution $Gamma(m, \\beta)$ (also known as **Erlang distribution**) can be obtained by summing $m$ independent exponential random variables $X_j\\sim Exp(\\beta)$:\n",
    "$$\\mathcal{Y}=\\beta \\sum^m_{j=1}\\left(-\\ln \\mathcal{U}_j\\right)=-\\beta \\ln \\prod^m_{j=1} \\mathcal{U}_j$$\n",
    "Write an algorithm to sample variables from an Erlang distribution $Gamma(m, \\beta)$."
   ]
  },
  {
   "cell_type": "code",
   "execution_count": 25,
   "id": "808c0fc1",
   "metadata": {},
   "outputs": [],
   "source": [
    "m  = 10; beta = 1"
   ]
  },
  {
   "cell_type": "code",
   "execution_count": 26,
   "id": "4fd2726a",
   "metadata": {},
   "outputs": [],
   "source": [
    "erlang_ips = function(m,beta){\n",
    "    return(-beta*log(prod(runif(m))))\n",
    "}\n",
    "\n",
    "erlang_exp = function(m){\n",
    "    return(sum(rexp(m)))\n",
    "}"
   ]
  },
  {
   "cell_type": "code",
   "execution_count": 27,
   "id": "06ea9d02",
   "metadata": {},
   "outputs": [],
   "source": [
    "n = 1000\n",
    "erlang_u = tibble('u' = replicate(n, erlang_ips(m,beta), simplify=TRUE))\n",
    "erlang_e = tibble('e' = replicate(n, erlang_exp(m), simplify=TRUE))"
   ]
  },
  {
   "cell_type": "code",
   "execution_count": 28,
   "id": "7083ca6c",
   "metadata": {},
   "outputs": [],
   "source": [
    "x = seq(0,30,0.3); bins = 20\n",
    "fact_u = n*(max(erlang_u$u)-min(erlang_u$u))/bins\n",
    "fact_e = n*(max(erlang_e$e)-min(erlang_e$e))/bins"
   ]
  },
  {
   "cell_type": "code",
   "execution_count": 29,
   "id": "54c2c6fd",
   "metadata": {},
   "outputs": [
    {
     "data": {
      "image/png": "[encoded data removed]",
      "text/plain": [
       "plot without title"
      ]
     },
     "metadata": {},
     "output_type": "display_data"
    }
   ],
   "source": [
    "options(repr.plot.width=12, repr.plot.height=6)\n",
    "p1 = ggplot(erlang_u, aes(x=u)) +\n",
    "geom_histogram(aes(y=..density..), bins=bins, color='darkorange3', fill='darkorange', alpha=0.8) +\n",
    "labs(title=TeX('Random variables $\\\\sim$ Gamma(m=10, beta=1)'), x=TeX('$Y_i = -\\\\beta \\\\ln \\\\Pi^m_{j=1} U_j$'), y='Density') +\n",
    "stat_function(fun = function(x) {dgamma(x,m,beta)}, color = 'firebrick', size=1)+\n",
    "theme(plot.title = element_text(color=\"black\", size=16\n",
    "                                    , face=\"bold.italic\"), \n",
    "              axis.title.x = element_text(color=\"black\", size=15),\n",
    "              axis.title.y = element_text(color=\"black\", size=15), \n",
    "              axis.ticks.length=unit(.25, \"cm\"),\n",
    "              axis.text.x = element_text(size=9),\n",
    "              axis.text.y = element_text(size=9))\n",
    "\n",
    "p2 = ggplot(erlang_e, aes(x=e)) +\n",
    "geom_histogram(aes(y=..density..), bins=bins, color='darkblue', fill='cyan3', alpha=0.8) +\n",
    "labs(title=TeX('Random variables $\\\\sim$ Exp(beta=1)'), x=TeX('$Y_i = \\\\Sigma^m_j Exp(\\\\beta)_j$'), y='Density') +\n",
    "stat_function(fun = function(x) {dgamma(x,m,beta)}, color = 'darkblue', size=1)+\n",
    "theme(plot.title = element_text(color=\"black\", size=16\n",
    "                                    , face=\"bold.italic\"), \n",
    "              axis.title.x = element_text(color=\"black\", size=15),\n",
    "              axis.title.y = element_text(color=\"black\", size=15), \n",
    "              axis.ticks.length=unit(.25, \"cm\"),\n",
    "              axis.text.x = element_text(size=9),\n",
    "              axis.text.y = element_text(size=9))\n",
    "\n",
    "p1 + p2"
   ]
  },
  {
   "cell_type": "markdown",
   "id": "bf6f6d1c",
   "metadata": {},
   "source": [
    "## Exercise 4"
   ]
  },
  {
   "cell_type": "markdown",
   "id": "c812dec0",
   "metadata": {},
   "source": [
    "One of the first random number generator was proposed by von Neumann, the so-called *middle square* algorithm.<br>\n",
    "Write R code to implement this type of generator and, given a fixed digit number input, square it and remove the leading and trailing digits, in order to return a number with the same number of digits as the original number.\n",
    "\n",
    "_Suggestion_: after having squared the number, convert it to a list of characters: <br>\n",
    "`number <- unlist(strsplit(as.character(x.squared),''))` <br>\n",
    "and, after having removed the head and tail of the list, convert it back to a number: <br>\n",
    "`as.numeric(paste(number.after.trimming, collapse=''))`"
   ]
  },
  {
   "cell_type": "code",
   "execution_count": 30,
   "id": "25a0c13b",
   "metadata": {},
   "outputs": [],
   "source": [
    "num_digits = function(int){\n",
    "    return(floor(log10(int))+1)\n",
    "}\n"
   ]
  },
  {
   "cell_type": "code",
   "execution_count": 31,
   "id": "36abf183",
   "metadata": {},
   "outputs": [],
   "source": [
    "mid_square_agt = function(seed, n){\n",
    "    rand_nums = NULL\n",
    "    if (num_digits(seed) %% 2 == 0){\n",
    "        cat('With an even seed the algorithm becomes unstable too fast, please enter an uneven seed')\n",
    "    }\n",
    "    else {\n",
    "        # we want our new number to have the same number of digits as the seed, so we need to know how much to cut \n",
    "        # after having squared the seed, to do so: \n",
    "        cut = (num_digits(seed)-1)/2\n",
    "        for (i in 1:n){\n",
    "            seed2 = seed^2\n",
    "            seed2_chr = unlist(strsplit(as.character(seed2),\"\"))\n",
    "            middle = ceiling(num_digits(seed2)/2)\n",
    "            new_seed = seed2_chr[(middle-cut):(middle+cut)]\n",
    "            seed = as.numeric(paste(new_seed, collapse=\"\"))\n",
    "            rand_nums = append(rand_nums, seed)   \n",
    "        }\n",
    "    }\n",
    "    return(rand_nums)\n",
    "}"
   ]
  },
  {
   "cell_type": "code",
   "execution_count": 32,
   "id": "6fbabd97",
   "metadata": {
    "scrolled": true
   },
   "outputs": [],
   "source": [
    "rand_nums = mid_square_agt(258963478, 10^5)"
   ]
  },
  {
   "cell_type": "code",
   "execution_count": 33,
   "id": "1cafb257",
   "metadata": {},
   "outputs": [
    {
     "data": {
      "image/png": "[encoded data removed]",
      "text/plain": [
       "plot without title"
      ]
     },
     "metadata": {},
     "output_type": "display_data"
    }
   ],
   "source": [
    "options(repr.plot.width=6, repr.plot.height=4)\n",
    "rand_nums = tibble('rand_nums' = rand_nums)\n",
    "\n",
    "ggplot(rand_nums, aes(x=rand_nums)) +\n",
    "geom_histogram(bins=50, color='darkorange3', fill='darkorange') +\n",
    "labs(title='Pseudo−random numbers generated by Middle Square algorithm', x='Pseudo−random number', y='Occurrences')+\n",
    "theme(plot.title = element_text(color=\"black\", size=11), \n",
    "              axis.title.x = element_text(color=\"black\", size=9),\n",
    "              axis.title.y = element_text(color=\"black\", size=9), \n",
    "              axis.ticks.length=unit(.25, \"cm\"),\n",
    "              axis.text.x = element_text(size=9),\n",
    "              axis.text.y = element_text(size=9))"
   ]
  }
 ],
 "metadata": {
  "kernelspec": {
   "display_name": "R",
   "language": "R",
   "name": "ir"
  },
  "language_info": {
   "codemirror_mode": "r",
   "file_extension": ".r",
   "mimetype": "text/x-r-source",
   "name": "R",
   "pygments_lexer": "r",
   "version": "3.6.1"
  }
 },
 "nbformat": 4,
 "nbformat_minor": 5
}
